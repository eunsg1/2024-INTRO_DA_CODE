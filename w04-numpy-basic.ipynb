{
 "cells": [
  {
   "cell_type": "code",
   "execution_count": 301,
   "id": "d1da32e5-4d7d-4860-95b6-34177e66269d",
   "metadata": {},
   "outputs": [],
   "source": [
    "## 20242531 최은성"
   ]
  },
  {
   "cell_type": "code",
   "execution_count": 65,
   "id": "6900e2eb-cd25-4579-a944-e1eb73dd650f",
   "metadata": {},
   "outputs": [
    {
     "name": "stdout",
     "output_type": "stream",
     "text": [
      "[[0 1]\n",
      " [2 3]\n",
      " [4 5]]\n",
      "[[ 6  7]\n",
      " [ 8  9]\n",
      " [10 11]]\n"
     ]
    }
   ],
   "source": [
    "import numpy as np\n",
    "\n",
    "a = np.arange(6).reshape(3, 2)\n",
    "print(a)\n",
    "\n",
    "b = np.arange(6, 12).reshape(3, 2)\n",
    "print(b)"
   ]
  },
  {
   "cell_type": "code",
   "execution_count": 70,
   "id": "c8c8eb51-abbc-48c0-b211-43648bd7148a",
   "metadata": {},
   "outputs": [
    {
     "data": {
      "text/plain": [
       "array([[ 0,  1],\n",
       "       [ 2,  3],\n",
       "       [ 4,  5],\n",
       "       [ 6,  7],\n",
       "       [ 8,  9],\n",
       "       [10, 11]])"
      ]
     },
     "execution_count": 70,
     "metadata": {},
     "output_type": "execute_result"
    }
   ],
   "source": [
    "np.vstack((a, b))"
   ]
  },
  {
   "cell_type": "code",
   "execution_count": 72,
   "id": "0885551a-b6b9-4164-8b58-d9827387a1f7",
   "metadata": {},
   "outputs": [
    {
     "name": "stdout",
     "output_type": "stream",
     "text": [
      "[[20 21]\n",
      " [22 23]]\n"
     ]
    }
   ],
   "source": [
    "c = np.arange(20, 24).reshape(2, 2)\n",
    "print(c)"
   ]
  },
  {
   "cell_type": "code",
   "execution_count": 68,
   "id": "b7700fe3-d1bb-4643-ba23-63f0daa464f9",
   "metadata": {},
   "outputs": [
    {
     "data": {
      "text/plain": [
       "array([[ 0,  1],\n",
       "       [ 2,  3],\n",
       "       [ 4,  5],\n",
       "       [20, 21],\n",
       "       [22, 23]])"
      ]
     },
     "execution_count": 68,
     "metadata": {},
     "output_type": "execute_result"
    }
   ],
   "source": [
    "np.vstack((a, c))"
   ]
  },
  {
   "cell_type": "code",
   "execution_count": 73,
   "id": "3bbb762d-e01b-4caf-876b-39282883cfc5",
   "metadata": {},
   "outputs": [
    {
     "data": {
      "text/plain": [
       "array([[ 0,  1],\n",
       "       [ 2,  3],\n",
       "       [ 4,  5],\n",
       "       [ 6,  7],\n",
       "       [ 8,  9],\n",
       "       [10, 11],\n",
       "       [20, 21],\n",
       "       [22, 23]])"
      ]
     },
     "execution_count": 73,
     "metadata": {},
     "output_type": "execute_result"
    }
   ],
   "source": [
    "np.vstack((a, b, c))"
   ]
  },
  {
   "cell_type": "code",
   "execution_count": 75,
   "id": "fbb205d5-22c6-4058-8dd1-d22724764331",
   "metadata": {},
   "outputs": [
    {
     "data": {
      "text/plain": [
       "array([[  0,   1],\n",
       "       [  2,   3],\n",
       "       [  4,   5],\n",
       "       [100, 200]])"
      ]
     },
     "execution_count": 75,
     "metadata": {},
     "output_type": "execute_result"
    }
   ],
   "source": [
    "d = np.array([100, 200])\n",
    "np.vstack((a, d))"
   ]
  },
  {
   "cell_type": "code",
   "execution_count": 76,
   "id": "24f28d56-3878-4c79-a56f-cd72a1abcb23",
   "metadata": {},
   "outputs": [
    {
     "ename": "ValueError",
     "evalue": "all the input array dimensions except for the concatenation axis must match exactly, but along dimension 1, the array at index 0 has size 2 and the array at index 1 has size 3",
     "output_type": "error",
     "traceback": [
      "\u001b[1;31m---------------------------------------------------------------------------\u001b[0m",
      "\u001b[1;31mValueError\u001b[0m                                Traceback (most recent call last)",
      "Cell \u001b[1;32mIn[76], line 2\u001b[0m\n\u001b[0;32m      1\u001b[0m d \u001b[38;5;241m=\u001b[39m np\u001b[38;5;241m.\u001b[39marray([\u001b[38;5;241m100\u001b[39m, \u001b[38;5;241m200\u001b[39m, \u001b[38;5;241m300\u001b[39m])\n\u001b[1;32m----> 2\u001b[0m np\u001b[38;5;241m.\u001b[39mvstack((a, d))\n",
      "File \u001b[1;32m~\\anaconda3\\Lib\\site-packages\\numpy\\core\\shape_base.py:289\u001b[0m, in \u001b[0;36mvstack\u001b[1;34m(tup, dtype, casting)\u001b[0m\n\u001b[0;32m    287\u001b[0m \u001b[38;5;28;01mif\u001b[39;00m \u001b[38;5;129;01mnot\u001b[39;00m \u001b[38;5;28misinstance\u001b[39m(arrs, \u001b[38;5;28mlist\u001b[39m):\n\u001b[0;32m    288\u001b[0m     arrs \u001b[38;5;241m=\u001b[39m [arrs]\n\u001b[1;32m--> 289\u001b[0m \u001b[38;5;28;01mreturn\u001b[39;00m _nx\u001b[38;5;241m.\u001b[39mconcatenate(arrs, \u001b[38;5;241m0\u001b[39m, dtype\u001b[38;5;241m=\u001b[39mdtype, casting\u001b[38;5;241m=\u001b[39mcasting)\n",
      "\u001b[1;31mValueError\u001b[0m: all the input array dimensions except for the concatenation axis must match exactly, but along dimension 1, the array at index 0 has size 2 and the array at index 1 has size 3"
     ]
    }
   ],
   "source": [
    "d = np.array([100, 200, 300])\n",
    "np.vstack((a, d))"
   ]
  },
  {
   "cell_type": "code",
   "execution_count": 78,
   "id": "dae26bf8-5575-4f68-a367-a418401cb383",
   "metadata": {},
   "outputs": [
    {
     "data": {
      "text/plain": [
       "array([[0, 1],\n",
       "       [2, 3],\n",
       "       [4, 5]])"
      ]
     },
     "execution_count": 78,
     "metadata": {},
     "output_type": "execute_result"
    }
   ],
   "source": [
    "a = np.arange(6).reshape(3, 2)\n",
    "a"
   ]
  },
  {
   "cell_type": "code",
   "execution_count": 79,
   "id": "6ed668d8-5e56-4f28-b7e9-1ca82f63e6da",
   "metadata": {},
   "outputs": [
    {
     "data": {
      "text/plain": [
       "array([[10, 11, 12],\n",
       "       [13, 14, 15],\n",
       "       [16, 17, 18]])"
      ]
     },
     "execution_count": 79,
     "metadata": {},
     "output_type": "execute_result"
    }
   ],
   "source": [
    "b = np.arange(10, 19).reshape(3, 3)\n",
    "b"
   ]
  },
  {
   "cell_type": "code",
   "execution_count": 80,
   "id": "922d8d28-137e-44f8-929d-82fc30bf2b99",
   "metadata": {},
   "outputs": [
    {
     "data": {
      "text/plain": [
       "array([[ 0,  1, 10, 11, 12],\n",
       "       [ 2,  3, 13, 14, 15],\n",
       "       [ 4,  5, 16, 17, 18]])"
      ]
     },
     "execution_count": 80,
     "metadata": {},
     "output_type": "execute_result"
    }
   ],
   "source": [
    "np.hstack((a, b))"
   ]
  },
  {
   "cell_type": "code",
   "execution_count": 81,
   "id": "e6e8cba6-7cdf-4b44-913e-0ccbbe66c8cc",
   "metadata": {},
   "outputs": [
    {
     "data": {
      "text/plain": [
       "array([[10, 20],\n",
       "       [30, 40]])"
      ]
     },
     "execution_count": 81,
     "metadata": {},
     "output_type": "execute_result"
    }
   ],
   "source": [
    "c = np.array([[10, 20], [30, 40]])\n",
    "c"
   ]
  },
  {
   "cell_type": "code",
   "execution_count": 82,
   "id": "977a3892-7bab-4c9b-a004-42640e1cf0a1",
   "metadata": {},
   "outputs": [
    {
     "ename": "ValueError",
     "evalue": "all the input array dimensions except for the concatenation axis must match exactly, but along dimension 0, the array at index 0 has size 3 and the array at index 1 has size 2",
     "output_type": "error",
     "traceback": [
      "\u001b[1;31m---------------------------------------------------------------------------\u001b[0m",
      "\u001b[1;31mValueError\u001b[0m                                Traceback (most recent call last)",
      "Cell \u001b[1;32mIn[82], line 1\u001b[0m\n\u001b[1;32m----> 1\u001b[0m np\u001b[38;5;241m.\u001b[39mhstack((a, c))\n",
      "File \u001b[1;32m~\\anaconda3\\Lib\\site-packages\\numpy\\core\\shape_base.py:359\u001b[0m, in \u001b[0;36mhstack\u001b[1;34m(tup, dtype, casting)\u001b[0m\n\u001b[0;32m    357\u001b[0m     \u001b[38;5;28;01mreturn\u001b[39;00m _nx\u001b[38;5;241m.\u001b[39mconcatenate(arrs, \u001b[38;5;241m0\u001b[39m, dtype\u001b[38;5;241m=\u001b[39mdtype, casting\u001b[38;5;241m=\u001b[39mcasting)\n\u001b[0;32m    358\u001b[0m \u001b[38;5;28;01melse\u001b[39;00m:\n\u001b[1;32m--> 359\u001b[0m     \u001b[38;5;28;01mreturn\u001b[39;00m _nx\u001b[38;5;241m.\u001b[39mconcatenate(arrs, \u001b[38;5;241m1\u001b[39m, dtype\u001b[38;5;241m=\u001b[39mdtype, casting\u001b[38;5;241m=\u001b[39mcasting)\n",
      "\u001b[1;31mValueError\u001b[0m: all the input array dimensions except for the concatenation axis must match exactly, but along dimension 0, the array at index 0 has size 3 and the array at index 1 has size 2"
     ]
    }
   ],
   "source": [
    "np.hstack((a, c))"
   ]
  },
  {
   "cell_type": "code",
   "execution_count": 86,
   "id": "b80b29ff-80de-4a51-83d3-477bd3d76061",
   "metadata": {},
   "outputs": [
    {
     "data": {
      "text/plain": [
       "array([ 0,  1,  2, 10, 11, 12, 13, 14])"
      ]
     },
     "execution_count": 86,
     "metadata": {},
     "output_type": "execute_result"
    }
   ],
   "source": [
    "np.hstack((np.arange(3), np.arange(10, 15)))"
   ]
  },
  {
   "cell_type": "code",
   "execution_count": 88,
   "id": "7d9ac398-765a-42e1-93aa-c4f619898f91",
   "metadata": {},
   "outputs": [
    {
     "data": {
      "text/plain": [
       "array([[0, 1],\n",
       "       [2, 3],\n",
       "       [4, 5]])"
      ]
     },
     "execution_count": 88,
     "metadata": {},
     "output_type": "execute_result"
    }
   ],
   "source": [
    "a = np.arange(6).reshape(3, 2)\n",
    "a"
   ]
  },
  {
   "cell_type": "code",
   "execution_count": 90,
   "id": "1dc7f98d-57b0-46d5-b01a-1039126517bb",
   "metadata": {},
   "outputs": [
    {
     "data": {
      "text/plain": [
       "array([[10, 11, 12, 13],\n",
       "       [14, 15, 16, 17],\n",
       "       [18, 19, 20, 21]])"
      ]
     },
     "execution_count": 90,
     "metadata": {},
     "output_type": "execute_result"
    }
   ],
   "source": [
    "b = np.arange(10, 22).reshape(3, 4)\n",
    "b"
   ]
  },
  {
   "cell_type": "code",
   "execution_count": 91,
   "id": "a0efd6c2-8f84-4d85-a02b-5cb08466944d",
   "metadata": {},
   "outputs": [
    {
     "data": {
      "text/plain": [
       "array([[ 0,  1, 10, 11, 12, 13],\n",
       "       [ 2,  3, 14, 15, 16, 17],\n",
       "       [ 4,  5, 18, 19, 20, 21]])"
      ]
     },
     "execution_count": 91,
     "metadata": {},
     "output_type": "execute_result"
    }
   ],
   "source": [
    "np.column_stack((a, b))"
   ]
  },
  {
   "cell_type": "code",
   "execution_count": 92,
   "id": "409a8259-65fb-4ae5-8c31-cf5b13f52e92",
   "metadata": {},
   "outputs": [
    {
     "data": {
      "text/plain": [
       "array([[ 0,  1, 10, 11, 12, 13],\n",
       "       [ 2,  3, 14, 15, 16, 17],\n",
       "       [ 4,  5, 18, 19, 20, 21]])"
      ]
     },
     "execution_count": 92,
     "metadata": {},
     "output_type": "execute_result"
    }
   ],
   "source": [
    "np.hstack((a, b))"
   ]
  },
  {
   "cell_type": "code",
   "execution_count": 93,
   "id": "6c8597b9-808a-466a-b35c-8fa284e523f5",
   "metadata": {},
   "outputs": [
    {
     "data": {
      "text/plain": [
       "array([[ 1, 10],\n",
       "       [ 2, 20],\n",
       "       [ 3, 30]])"
      ]
     },
     "execution_count": 93,
     "metadata": {},
     "output_type": "execute_result"
    }
   ],
   "source": [
    "x = np.array([1, 2, 3])\n",
    "y = np.array([10, 20, 30])\n",
    "np.column_stack((x, y))"
   ]
  },
  {
   "cell_type": "code",
   "execution_count": 94,
   "id": "1f116a7f-9e0a-4936-a485-475d54f3090e",
   "metadata": {},
   "outputs": [
    {
     "data": {
      "text/plain": [
       "array([[1],\n",
       "       [2],\n",
       "       [3]])"
      ]
     },
     "execution_count": 94,
     "metadata": {},
     "output_type": "execute_result"
    }
   ],
   "source": [
    "x[:, np.newaxis]"
   ]
  },
  {
   "cell_type": "code",
   "execution_count": 95,
   "id": "90a46b1b-da0d-4697-bc50-66b4370bd2dc",
   "metadata": {},
   "outputs": [
    {
     "data": {
      "text/plain": [
       "array([[10],\n",
       "       [20],\n",
       "       [30]])"
      ]
     },
     "execution_count": 95,
     "metadata": {},
     "output_type": "execute_result"
    }
   ],
   "source": [
    "y[:, np.newaxis]"
   ]
  },
  {
   "cell_type": "code",
   "execution_count": 96,
   "id": "e2b47558-f512-4f6e-bed1-35a43ccd1517",
   "metadata": {},
   "outputs": [
    {
     "data": {
      "text/plain": [
       "array([[ 1, 10],\n",
       "       [ 2, 20],\n",
       "       [ 3, 30]])"
      ]
     },
     "execution_count": 96,
     "metadata": {},
     "output_type": "execute_result"
    }
   ],
   "source": [
    "x = np.array([1, 2, 3])\n",
    "y = np.array([10, 20, 30])\n",
    "np.column_stack((x[:, np.newaxis], y[:, np.newaxis]))"
   ]
  },
  {
   "cell_type": "code",
   "execution_count": 97,
   "id": "6490cabf-1110-43a7-ac1b-0130834fd442",
   "metadata": {},
   "outputs": [
    {
     "data": {
      "text/plain": [
       "array([ 1,  2,  3, 10, 20, 30])"
      ]
     },
     "execution_count": 97,
     "metadata": {},
     "output_type": "execute_result"
    }
   ],
   "source": [
    "np.hstack((x, y))"
   ]
  },
  {
   "cell_type": "code",
   "execution_count": 98,
   "id": "154c1514-473e-49cc-b4c2-957e95527af8",
   "metadata": {},
   "outputs": [
    {
     "data": {
      "text/plain": [
       "False"
      ]
     },
     "execution_count": 98,
     "metadata": {},
     "output_type": "execute_result"
    }
   ],
   "source": [
    "np.column_stack == np.hstack"
   ]
  },
  {
   "cell_type": "code",
   "execution_count": 100,
   "id": "b0f1bb59-2e40-47c0-8e5e-6f6c7d53c033",
   "metadata": {},
   "outputs": [
    {
     "data": {
      "text/plain": [
       "array([[0, 1, 2],\n",
       "       [3, 4, 5]])"
      ]
     },
     "execution_count": 100,
     "metadata": {},
     "output_type": "execute_result"
    }
   ],
   "source": [
    "a = np.arange(6).reshape(2, 3)\n",
    "a"
   ]
  },
  {
   "cell_type": "code",
   "execution_count": 101,
   "id": "3e3b92b9-cd49-4e07-a4eb-96ac4303d029",
   "metadata": {},
   "outputs": [
    {
     "data": {
      "text/plain": [
       "array([[10, 11, 12],\n",
       "       [13, 14, 15],\n",
       "       [16, 17, 18],\n",
       "       [19, 20, 21]])"
      ]
     },
     "execution_count": 101,
     "metadata": {},
     "output_type": "execute_result"
    }
   ],
   "source": [
    "b = np.arange(10, 22).reshape(4, 3)\n",
    "b"
   ]
  },
  {
   "cell_type": "code",
   "execution_count": 102,
   "id": "319fe873-199e-4979-96e5-39a8fbf8fd01",
   "metadata": {},
   "outputs": [
    {
     "data": {
      "text/plain": [
       "array([[ 0,  1,  2],\n",
       "       [ 3,  4,  5],\n",
       "       [10, 11, 12],\n",
       "       [13, 14, 15],\n",
       "       [16, 17, 18],\n",
       "       [19, 20, 21]])"
      ]
     },
     "execution_count": 102,
     "metadata": {},
     "output_type": "execute_result"
    }
   ],
   "source": [
    "np.row_stack((a, b))"
   ]
  },
  {
   "cell_type": "code",
   "execution_count": 104,
   "id": "12ee4d9c-9aa1-4367-b111-bd95e2895d2b",
   "metadata": {},
   "outputs": [
    {
     "data": {
      "text/plain": [
       "array([[ 0,  1,  2],\n",
       "       [ 3,  4,  5],\n",
       "       [10, 11, 12],\n",
       "       [13, 14, 15],\n",
       "       [16, 17, 18],\n",
       "       [19, 20, 21]])"
      ]
     },
     "execution_count": 104,
     "metadata": {},
     "output_type": "execute_result"
    }
   ],
   "source": [
    "np.vstack((a, b))"
   ]
  },
  {
   "cell_type": "code",
   "execution_count": 106,
   "id": "64cdfa50-8e84-4ad4-a845-81bab5513613",
   "metadata": {},
   "outputs": [
    {
     "name": "stdout",
     "output_type": "stream",
     "text": [
      "[[4. 2. 1.]\n",
      " [2. 8. 7.]]\n"
     ]
    }
   ],
   "source": [
    "a = np.array([4., 2., 1.])\n",
    "b = np.array([2., 8., 7.])\n",
    "print(np.row_stack((a, b)))"
   ]
  },
  {
   "cell_type": "code",
   "execution_count": 108,
   "id": "ff3f3787-2ff3-498a-8820-f8c2921bbb00",
   "metadata": {},
   "outputs": [
    {
     "name": "stdout",
     "output_type": "stream",
     "text": [
      "[[4. 2. 1.]\n",
      " [2. 8. 7.]]\n"
     ]
    }
   ],
   "source": [
    "print(np.vstack((a, b)))"
   ]
  },
  {
   "cell_type": "code",
   "execution_count": 109,
   "id": "265236ce-c86d-47e8-a343-4d5c880d5ee8",
   "metadata": {},
   "outputs": [
    {
     "data": {
      "text/plain": [
       "True"
      ]
     },
     "execution_count": 109,
     "metadata": {},
     "output_type": "execute_result"
    }
   ],
   "source": [
    "np.row_stack == np.vstack"
   ]
  },
  {
   "cell_type": "code",
   "execution_count": 110,
   "id": "9bb3063a-dabb-491d-9aa2-4af03a884ac7",
   "metadata": {},
   "outputs": [],
   "source": [
    "a = np.array([1, 2])\n",
    "b = np.array([3, 4])\n",
    "c = np.array([5, 6])"
   ]
  },
  {
   "cell_type": "code",
   "execution_count": 111,
   "id": "0ff551bd-6802-4fb7-a85e-ff0af9c58f3d",
   "metadata": {},
   "outputs": [
    {
     "data": {
      "text/plain": [
       "array([1, 2, 3, 4, 5, 6])"
      ]
     },
     "execution_count": 111,
     "metadata": {},
     "output_type": "execute_result"
    }
   ],
   "source": [
    "np.concatenate((a, b, c))"
   ]
  },
  {
   "cell_type": "code",
   "execution_count": 112,
   "id": "5c11c2e2-9902-4561-8b24-87613c78296e",
   "metadata": {},
   "outputs": [
    {
     "data": {
      "text/plain": [
       "array([1, 2, 3, 4, 5, 6])"
      ]
     },
     "execution_count": 112,
     "metadata": {},
     "output_type": "execute_result"
    }
   ],
   "source": [
    "np.concatenate((a, b, c), axis = 0)"
   ]
  },
  {
   "cell_type": "code",
   "execution_count": 113,
   "id": "61e7b637-e355-4069-832b-f3752b3dc761",
   "metadata": {},
   "outputs": [
    {
     "data": {
      "text/plain": [
       "array([1, 2, 3, 4, 5, 6])"
      ]
     },
     "execution_count": 113,
     "metadata": {},
     "output_type": "execute_result"
    }
   ],
   "source": [
    "np.concatenate((a, b, c), axis = None)"
   ]
  },
  {
   "cell_type": "code",
   "execution_count": 114,
   "id": "0509d161-efd0-44c6-a304-51282a404e00",
   "metadata": {},
   "outputs": [
    {
     "name": "stdout",
     "output_type": "stream",
     "text": [
      "[[0 1 2]\n",
      " [3 4 5]]\n",
      "[[10 11 12]\n",
      " [13 14 15]]\n",
      "[[20 21]\n",
      " [22 23]]\n"
     ]
    }
   ],
   "source": [
    "x = np.arange(6).reshape(2, 3)\n",
    "print(x)\n",
    "y = np.arange(10, 16).reshape(2, 3)\n",
    "print(y)\n",
    "z = np.arange(20, 24).reshape(2, 2)\n",
    "print(z)"
   ]
  },
  {
   "cell_type": "code",
   "execution_count": 116,
   "id": "bdab9321-48ea-42c9-b10a-55e5bd33aa3a",
   "metadata": {},
   "outputs": [
    {
     "data": {
      "text/plain": [
       "array([[ 0,  1,  2],\n",
       "       [ 3,  4,  5],\n",
       "       [10, 11, 12],\n",
       "       [13, 14, 15]])"
      ]
     },
     "execution_count": 116,
     "metadata": {},
     "output_type": "execute_result"
    }
   ],
   "source": [
    "np.concatenate((x, y))"
   ]
  },
  {
   "cell_type": "code",
   "execution_count": 117,
   "id": "b2ddd0de-854c-456f-9c44-df5cf9f77195",
   "metadata": {},
   "outputs": [
    {
     "ename": "ValueError",
     "evalue": "all the input array dimensions except for the concatenation axis must match exactly, but along dimension 1, the array at index 0 has size 3 and the array at index 2 has size 2",
     "output_type": "error",
     "traceback": [
      "\u001b[1;31m---------------------------------------------------------------------------\u001b[0m",
      "\u001b[1;31mValueError\u001b[0m                                Traceback (most recent call last)",
      "Cell \u001b[1;32mIn[117], line 1\u001b[0m\n\u001b[1;32m----> 1\u001b[0m np\u001b[38;5;241m.\u001b[39mconcatenate((x, y, z))\n",
      "\u001b[1;31mValueError\u001b[0m: all the input array dimensions except for the concatenation axis must match exactly, but along dimension 1, the array at index 0 has size 3 and the array at index 2 has size 2"
     ]
    }
   ],
   "source": [
    "np.concatenate((x, y, z))"
   ]
  },
  {
   "cell_type": "code",
   "execution_count": 118,
   "id": "5d920949-4e0f-4a72-8412-82f0cd5dd755",
   "metadata": {},
   "outputs": [
    {
     "data": {
      "text/plain": [
       "array([[ 0,  1,  2, 10, 11, 12],\n",
       "       [ 3,  4,  5, 13, 14, 15]])"
      ]
     },
     "execution_count": 118,
     "metadata": {},
     "output_type": "execute_result"
    }
   ],
   "source": [
    "np.concatenate((x, y), axis = 1)"
   ]
  },
  {
   "cell_type": "code",
   "execution_count": 119,
   "id": "86582be7-b292-4d68-8ae6-fbd2919c36d0",
   "metadata": {},
   "outputs": [
    {
     "data": {
      "text/plain": [
       "array([[ 0,  1,  2, 10, 11, 12, 20, 21],\n",
       "       [ 3,  4,  5, 13, 14, 15, 22, 23]])"
      ]
     },
     "execution_count": 119,
     "metadata": {},
     "output_type": "execute_result"
    }
   ],
   "source": [
    "np.concatenate((x, y, z), axis = 1)"
   ]
  },
  {
   "cell_type": "code",
   "execution_count": 121,
   "id": "61d34d8e-636e-4e6e-8009-4a101375b400",
   "metadata": {},
   "outputs": [
    {
     "data": {
      "text/plain": [
       "array([ 0,  1,  2,  3,  4,  5, 10, 11, 12, 13, 14, 15])"
      ]
     },
     "execution_count": 121,
     "metadata": {},
     "output_type": "execute_result"
    }
   ],
   "source": [
    "np.concatenate((x, y), axis = None)"
   ]
  },
  {
   "cell_type": "code",
   "execution_count": 122,
   "id": "4bb7ef7b-f5de-4cb2-baba-ed9307052ad9",
   "metadata": {},
   "outputs": [
    {
     "name": "stdout",
     "output_type": "stream",
     "text": [
      "[1 2 3]\n",
      "[4 5 6]\n"
     ]
    }
   ],
   "source": [
    "a = np.array([1, 2, 3])\n",
    "print(a)\n",
    "b = np.array([4, 5, 6])\n",
    "print(b)"
   ]
  },
  {
   "cell_type": "code",
   "execution_count": 123,
   "id": "31d9723f-b3bd-46b8-a440-17e912f7b96a",
   "metadata": {},
   "outputs": [
    {
     "data": {
      "text/plain": [
       "array([[1, 2, 3],\n",
       "       [4, 5, 6]])"
      ]
     },
     "execution_count": 123,
     "metadata": {},
     "output_type": "execute_result"
    }
   ],
   "source": [
    "np.stack((a, b))"
   ]
  },
  {
   "cell_type": "code",
   "execution_count": 124,
   "id": "086c0595-179a-4ffb-a6b2-05c27cd45b46",
   "metadata": {},
   "outputs": [
    {
     "data": {
      "text/plain": [
       "array([[1, 4],\n",
       "       [2, 5],\n",
       "       [3, 6]])"
      ]
     },
     "execution_count": 124,
     "metadata": {},
     "output_type": "execute_result"
    }
   ],
   "source": [
    "np.stack((a, b), axis = 1)"
   ]
  },
  {
   "cell_type": "code",
   "execution_count": 125,
   "id": "ab137007-eb95-43db-a946-96385509cd01",
   "metadata": {},
   "outputs": [
    {
     "data": {
      "text/plain": [
       "array([[1, 4],\n",
       "       [2, 5],\n",
       "       [3, 6]])"
      ]
     },
     "execution_count": 125,
     "metadata": {},
     "output_type": "execute_result"
    }
   ],
   "source": [
    "np.stack((a, b), axis = -1)"
   ]
  },
  {
   "cell_type": "code",
   "execution_count": 126,
   "id": "818ff6c5-41b6-48ee-9296-ca54571858a2",
   "metadata": {},
   "outputs": [
    {
     "name": "stdout",
     "output_type": "stream",
     "text": [
      "[[0 1 2]\n",
      " [3 4 5]]\n",
      "[[10 11 12]\n",
      " [13 14 15]]\n",
      "[[20 21 22]\n",
      " [23 24 25]]\n"
     ]
    }
   ],
   "source": [
    "x = np.arange(6).reshape(2, 3)\n",
    "print(x)\n",
    "y = np.arange(10, 16).reshape(2, 3)\n",
    "print(y)\n",
    "z = np.arange(20, 26).reshape(2, 3)\n",
    "print(z)"
   ]
  },
  {
   "cell_type": "code",
   "execution_count": 129,
   "id": "2cfb7c6b-07b4-49ef-b3b0-543511d3439a",
   "metadata": {},
   "outputs": [
    {
     "data": {
      "text/plain": [
       "array([[[ 0,  1,  2],\n",
       "        [ 3,  4,  5]],\n",
       "\n",
       "       [[10, 11, 12],\n",
       "        [13, 14, 15]],\n",
       "\n",
       "       [[20, 21, 22],\n",
       "        [23, 24, 25]]])"
      ]
     },
     "execution_count": 129,
     "metadata": {},
     "output_type": "execute_result"
    }
   ],
   "source": [
    "ax0 = np.stack((x, y, z), axis = 0)\n",
    "ax0"
   ]
  },
  {
   "cell_type": "code",
   "execution_count": 130,
   "id": "386d7901-3961-47c9-918f-c4b553f385a5",
   "metadata": {},
   "outputs": [
    {
     "data": {
      "text/plain": [
       "(3, 2, 3)"
      ]
     },
     "execution_count": 130,
     "metadata": {},
     "output_type": "execute_result"
    }
   ],
   "source": [
    "ax0.shape"
   ]
  },
  {
   "cell_type": "code",
   "execution_count": 133,
   "id": "79394d2b-0d53-4325-b5ff-8c9bb391fa29",
   "metadata": {},
   "outputs": [
    {
     "data": {
      "text/plain": [
       "array([[[ 0,  1,  2],\n",
       "        [10, 11, 12],\n",
       "        [20, 21, 22]],\n",
       "\n",
       "       [[ 3,  4,  5],\n",
       "        [13, 14, 15],\n",
       "        [23, 24, 25]]])"
      ]
     },
     "execution_count": 133,
     "metadata": {},
     "output_type": "execute_result"
    }
   ],
   "source": [
    "ax1 = np.stack((x, y, z), axis = 1)\n",
    "ax1"
   ]
  },
  {
   "cell_type": "code",
   "execution_count": 134,
   "id": "2667a7a7-15de-4639-a4f6-ee3ca159fb69",
   "metadata": {},
   "outputs": [
    {
     "data": {
      "text/plain": [
       "(2, 3, 3)"
      ]
     },
     "execution_count": 134,
     "metadata": {},
     "output_type": "execute_result"
    }
   ],
   "source": [
    "ax1.shape"
   ]
  },
  {
   "cell_type": "code",
   "execution_count": 136,
   "id": "93992a9e-7b36-409f-9643-45eed47fa42c",
   "metadata": {},
   "outputs": [
    {
     "data": {
      "text/plain": [
       "array([[[ 0, 10, 20],\n",
       "        [ 1, 11, 21],\n",
       "        [ 2, 12, 22]],\n",
       "\n",
       "       [[ 3, 13, 23],\n",
       "        [ 4, 14, 24],\n",
       "        [ 5, 15, 25]]])"
      ]
     },
     "execution_count": 136,
     "metadata": {},
     "output_type": "execute_result"
    }
   ],
   "source": [
    "ax2 = np.stack((x, y, z), axis = 2)\n",
    "ax2"
   ]
  },
  {
   "cell_type": "code",
   "execution_count": 137,
   "id": "c8a78ae8-5b7a-4419-98e6-5e6e4cd79b68",
   "metadata": {},
   "outputs": [
    {
     "data": {
      "text/plain": [
       "(2, 3, 3)"
      ]
     },
     "execution_count": 137,
     "metadata": {},
     "output_type": "execute_result"
    }
   ],
   "source": [
    "ax2.shape"
   ]
  },
  {
   "cell_type": "code",
   "execution_count": 138,
   "id": "924af83d-6b9f-49b8-923b-2ac08519a505",
   "metadata": {},
   "outputs": [
    {
     "data": {
      "text/plain": [
       "array([[0, 1, 2],\n",
       "       [3, 4, 5]])"
      ]
     },
     "execution_count": 138,
     "metadata": {},
     "output_type": "execute_result"
    }
   ],
   "source": [
    "x"
   ]
  },
  {
   "cell_type": "code",
   "execution_count": 139,
   "id": "86fdbb6b-7626-41ed-8fb8-7c3d8596ce11",
   "metadata": {},
   "outputs": [
    {
     "data": {
      "text/plain": [
       "array([[[0],\n",
       "        [1],\n",
       "        [2]],\n",
       "\n",
       "       [[3],\n",
       "        [4],\n",
       "        [5]]])"
      ]
     },
     "execution_count": 139,
     "metadata": {},
     "output_type": "execute_result"
    }
   ],
   "source": [
    "x[:, :, np.newaxis]"
   ]
  },
  {
   "cell_type": "code",
   "execution_count": 140,
   "id": "645487e0-8f1d-4deb-aadb-6d1d1cbf748a",
   "metadata": {},
   "outputs": [
    {
     "data": {
      "text/plain": [
       "array([[[0],\n",
       "        [1],\n",
       "        [2]],\n",
       "\n",
       "       [[3],\n",
       "        [4],\n",
       "        [5]]])"
      ]
     },
     "execution_count": 140,
     "metadata": {},
     "output_type": "execute_result"
    }
   ],
   "source": [
    "np.expand_dims(x, axis = 2)"
   ]
  },
  {
   "cell_type": "code",
   "execution_count": 141,
   "id": "d6c97768-6bd8-4c38-8723-e88bdd3a1bf0",
   "metadata": {},
   "outputs": [
    {
     "data": {
      "text/plain": [
       "array([[10, 11, 12],\n",
       "       [13, 14, 15]])"
      ]
     },
     "execution_count": 141,
     "metadata": {},
     "output_type": "execute_result"
    }
   ],
   "source": [
    "y"
   ]
  },
  {
   "cell_type": "code",
   "execution_count": 142,
   "id": "0c6f0ce9-112e-43ad-ac3b-0de324a89937",
   "metadata": {},
   "outputs": [
    {
     "data": {
      "text/plain": [
       "array([[[10],\n",
       "        [11],\n",
       "        [12]],\n",
       "\n",
       "       [[13],\n",
       "        [14],\n",
       "        [15]]])"
      ]
     },
     "execution_count": 142,
     "metadata": {},
     "output_type": "execute_result"
    }
   ],
   "source": [
    "y[:, :, np.newaxis]"
   ]
  },
  {
   "cell_type": "code",
   "execution_count": 143,
   "id": "620229ed-2b4f-4524-a197-864da3dd4d9a",
   "metadata": {},
   "outputs": [
    {
     "data": {
      "text/plain": [
       "array([[20, 21, 22],\n",
       "       [23, 24, 25]])"
      ]
     },
     "execution_count": 143,
     "metadata": {},
     "output_type": "execute_result"
    }
   ],
   "source": [
    "z"
   ]
  },
  {
   "cell_type": "code",
   "execution_count": 144,
   "id": "2fd70d76-e654-4cbd-bf23-a7c40e8dce1a",
   "metadata": {},
   "outputs": [
    {
     "data": {
      "text/plain": [
       "array([[[20],\n",
       "        [21],\n",
       "        [22]],\n",
       "\n",
       "       [[23],\n",
       "        [24],\n",
       "        [25]]])"
      ]
     },
     "execution_count": 144,
     "metadata": {},
     "output_type": "execute_result"
    }
   ],
   "source": [
    "np.expand_dims(z, axis = 2)"
   ]
  },
  {
   "cell_type": "code",
   "execution_count": 145,
   "id": "2036369a-a630-4f2e-a3ba-e5f3ceab494a",
   "metadata": {},
   "outputs": [
    {
     "data": {
      "text/plain": [
       "array([[[ 0, 10, 20],\n",
       "        [ 1, 11, 21],\n",
       "        [ 2, 12, 22]],\n",
       "\n",
       "       [[ 3, 13, 23],\n",
       "        [ 4, 14, 24],\n",
       "        [ 5, 15, 25]]])"
      ]
     },
     "execution_count": 145,
     "metadata": {},
     "output_type": "execute_result"
    }
   ],
   "source": [
    "np.stack((x, y, z), axis = 2)"
   ]
  },
  {
   "cell_type": "code",
   "execution_count": 146,
   "id": "fea4b2cb-30f9-42f1-aab3-f86c1e98892b",
   "metadata": {},
   "outputs": [
    {
     "data": {
      "text/plain": [
       "array([[ 1,  2,  3,  4],\n",
       "       [ 5,  6,  7,  8],\n",
       "       [ 9, 10, 11, 12]])"
      ]
     },
     "execution_count": 146,
     "metadata": {},
     "output_type": "execute_result"
    }
   ],
   "source": [
    "a = np.arange(1, 13).reshape(3, 4)\n",
    "a"
   ]
  },
  {
   "cell_type": "code",
   "execution_count": 147,
   "id": "00af2386-f722-4812-8f9c-4d80fd4e91d8",
   "metadata": {},
   "outputs": [
    {
     "data": {
      "text/plain": [
       "array([1, 3, 5])"
      ]
     },
     "execution_count": 147,
     "metadata": {},
     "output_type": "execute_result"
    }
   ],
   "source": [
    "c = np.arange(1, 6, 2)\n",
    "c"
   ]
  },
  {
   "cell_type": "code",
   "execution_count": 149,
   "id": "2c10b12a-ec7d-4684-a7f3-7d8635e12fa0",
   "metadata": {},
   "outputs": [
    {
     "data": {
      "text/plain": [
       "array([[1],\n",
       "       [3],\n",
       "       [5]])"
      ]
     },
     "execution_count": 149,
     "metadata": {},
     "output_type": "execute_result"
    }
   ],
   "source": [
    "c[:, np.newaxis]"
   ]
  },
  {
   "cell_type": "code",
   "execution_count": 150,
   "id": "f0af6bf0-de9a-4a86-9cc7-0f99e97e2a41",
   "metadata": {},
   "outputs": [
    {
     "data": {
      "text/plain": [
       "array([[ 1,  2,  3,  4,  1],\n",
       "       [ 5,  6,  7,  8,  3],\n",
       "       [ 9, 10, 11, 12,  5]])"
      ]
     },
     "execution_count": 150,
     "metadata": {},
     "output_type": "execute_result"
    }
   ],
   "source": [
    "np.hstack((a, c[:, np.newaxis]))"
   ]
  },
  {
   "cell_type": "code",
   "execution_count": 151,
   "id": "4fa5804a-954b-4b15-a901-50dbbf46111d",
   "metadata": {},
   "outputs": [
    {
     "ename": "ValueError",
     "evalue": "all the input arrays must have same number of dimensions, but the array at index 0 has 2 dimension(s) and the array at index 1 has 1 dimension(s)",
     "output_type": "error",
     "traceback": [
      "\u001b[1;31m---------------------------------------------------------------------------\u001b[0m",
      "\u001b[1;31mValueError\u001b[0m                                Traceback (most recent call last)",
      "Cell \u001b[1;32mIn[151], line 1\u001b[0m\n\u001b[1;32m----> 1\u001b[0m np\u001b[38;5;241m.\u001b[39mhstack((a, c))\n",
      "File \u001b[1;32m~\\anaconda3\\Lib\\site-packages\\numpy\\core\\shape_base.py:359\u001b[0m, in \u001b[0;36mhstack\u001b[1;34m(tup, dtype, casting)\u001b[0m\n\u001b[0;32m    357\u001b[0m     \u001b[38;5;28;01mreturn\u001b[39;00m _nx\u001b[38;5;241m.\u001b[39mconcatenate(arrs, \u001b[38;5;241m0\u001b[39m, dtype\u001b[38;5;241m=\u001b[39mdtype, casting\u001b[38;5;241m=\u001b[39mcasting)\n\u001b[0;32m    358\u001b[0m \u001b[38;5;28;01melse\u001b[39;00m:\n\u001b[1;32m--> 359\u001b[0m     \u001b[38;5;28;01mreturn\u001b[39;00m _nx\u001b[38;5;241m.\u001b[39mconcatenate(arrs, \u001b[38;5;241m1\u001b[39m, dtype\u001b[38;5;241m=\u001b[39mdtype, casting\u001b[38;5;241m=\u001b[39mcasting)\n",
      "\u001b[1;31mValueError\u001b[0m: all the input arrays must have same number of dimensions, but the array at index 0 has 2 dimension(s) and the array at index 1 has 1 dimension(s)"
     ]
    }
   ],
   "source": [
    "np.hstack((a, c))"
   ]
  },
  {
   "cell_type": "code",
   "execution_count": 152,
   "id": "fbe2a47a-43b0-42fe-a870-4e23e0a39e6a",
   "metadata": {},
   "outputs": [
    {
     "data": {
      "text/plain": [
       "array([[ 1,  2,  3,  4,  1],\n",
       "       [ 5,  6,  7,  8,  3],\n",
       "       [ 9, 10, 11, 12,  5]])"
      ]
     },
     "execution_count": 152,
     "metadata": {},
     "output_type": "execute_result"
    }
   ],
   "source": [
    "np.hstack((a, np.expand_dims(c, axis = 1)))"
   ]
  },
  {
   "cell_type": "code",
   "execution_count": 153,
   "id": "39663b08-698d-4a6e-97d6-fa310dc98aae",
   "metadata": {},
   "outputs": [
    {
     "data": {
      "text/plain": [
       "array([[ 1,  2,  3,  4,  1],\n",
       "       [ 5,  6,  7,  8,  3],\n",
       "       [ 9, 10, 11, 12,  5]])"
      ]
     },
     "execution_count": 153,
     "metadata": {},
     "output_type": "execute_result"
    }
   ],
   "source": [
    "np.column_stack((a, c))"
   ]
  },
  {
   "cell_type": "code",
   "execution_count": 154,
   "id": "d778c929-a737-43a1-b789-37554536582a",
   "metadata": {},
   "outputs": [
    {
     "data": {
      "text/plain": [
       "array([[ 1,  2,  3,  4],\n",
       "       [ 5,  6,  7,  8],\n",
       "       [ 9, 10, 11, 12]])"
      ]
     },
     "execution_count": 154,
     "metadata": {},
     "output_type": "execute_result"
    }
   ],
   "source": [
    "a = np.arange(1, 13).reshape(3, 4)\n",
    "a"
   ]
  },
  {
   "cell_type": "code",
   "execution_count": 156,
   "id": "d0e20cb0-0e74-4e4c-9f69-12a297f9ab66",
   "metadata": {},
   "outputs": [
    {
     "data": {
      "text/plain": [
       "array([1, 2, 3, 4])"
      ]
     },
     "execution_count": 156,
     "metadata": {},
     "output_type": "execute_result"
    }
   ],
   "source": [
    "b = np.arange(1, 5)\n",
    "b"
   ]
  },
  {
   "cell_type": "code",
   "execution_count": 157,
   "id": "c96f14ff-b85d-478f-b4e6-2d0ee9540673",
   "metadata": {},
   "outputs": [
    {
     "data": {
      "text/plain": [
       "array([[ 1,  2,  3,  4],\n",
       "       [ 5,  6,  7,  8],\n",
       "       [ 9, 10, 11, 12],\n",
       "       [ 1,  2,  3,  4]])"
      ]
     },
     "execution_count": 157,
     "metadata": {},
     "output_type": "execute_result"
    }
   ],
   "source": [
    "np.row_stack((a, b))"
   ]
  },
  {
   "cell_type": "code",
   "execution_count": 158,
   "id": "f5fcc389-8eb8-4ae4-819c-cbc830b76f7f",
   "metadata": {},
   "outputs": [
    {
     "data": {
      "text/plain": [
       "array([[ 1,  2,  3,  4],\n",
       "       [ 5,  6,  7,  8],\n",
       "       [ 9, 10, 11, 12],\n",
       "       [ 1,  2,  3,  4]])"
      ]
     },
     "execution_count": 158,
     "metadata": {},
     "output_type": "execute_result"
    }
   ],
   "source": [
    "np.vstack((a, b))"
   ]
  },
  {
   "cell_type": "code",
   "execution_count": 159,
   "id": "644ff623-aa34-46ee-a30b-da376a52586d",
   "metadata": {},
   "outputs": [],
   "source": [
    "a = np.array([1, 2, 3])\n",
    "b = np.array([4, 5, 6])"
   ]
  },
  {
   "cell_type": "code",
   "execution_count": 160,
   "id": "1bd9295a-5c1f-4362-913e-dfd1ff9abba7",
   "metadata": {},
   "outputs": [
    {
     "data": {
      "text/plain": [
       "array([[1, 4],\n",
       "       [2, 5],\n",
       "       [3, 6]])"
      ]
     },
     "execution_count": 160,
     "metadata": {},
     "output_type": "execute_result"
    }
   ],
   "source": [
    "np.c_[a, b]"
   ]
  },
  {
   "cell_type": "code",
   "execution_count": 162,
   "id": "5f9daea5-2cfc-412a-ac2e-f0bae72ff606",
   "metadata": {},
   "outputs": [
    {
     "data": {
      "text/plain": [
       "array([[1, 4],\n",
       "       [2, 5],\n",
       "       [3, 6]])"
      ]
     },
     "execution_count": 162,
     "metadata": {},
     "output_type": "execute_result"
    }
   ],
   "source": [
    "np.column_stack((a, b))"
   ]
  },
  {
   "cell_type": "code",
   "execution_count": 163,
   "id": "7cbad802-023d-43a6-9715-1f5fde0f8cda",
   "metadata": {},
   "outputs": [],
   "source": [
    "x = np.array([[1, 2, 3]])\n",
    "y = np.array([[4, 5, 6]])"
   ]
  },
  {
   "cell_type": "code",
   "execution_count": 164,
   "id": "0ec2b4b0-99e3-4c09-b18f-699146c953e6",
   "metadata": {},
   "outputs": [
    {
     "data": {
      "text/plain": [
       "array([[1, 2, 3, 4, 5, 6]])"
      ]
     },
     "execution_count": 164,
     "metadata": {},
     "output_type": "execute_result"
    }
   ],
   "source": [
    "np.c_[x, y]"
   ]
  },
  {
   "cell_type": "code",
   "execution_count": 165,
   "id": "1e8a5b29-b1fb-4ff0-af15-5954e221ed7f",
   "metadata": {},
   "outputs": [
    {
     "data": {
      "text/plain": [
       "array([[1, 2, 3, 4, 5, 6]])"
      ]
     },
     "execution_count": 165,
     "metadata": {},
     "output_type": "execute_result"
    }
   ],
   "source": [
    "np.column_stack((x, y))"
   ]
  },
  {
   "cell_type": "code",
   "execution_count": 166,
   "id": "fbd3f624-4d90-4377-807a-b0315a5cf440",
   "metadata": {},
   "outputs": [
    {
     "data": {
      "text/plain": [
       "array([[ 1,  2,  3, 10, 20,  4,  5,  6]])"
      ]
     },
     "execution_count": 166,
     "metadata": {},
     "output_type": "execute_result"
    }
   ],
   "source": [
    "np.c_[x, 10, 20, y]"
   ]
  },
  {
   "cell_type": "code",
   "execution_count": 168,
   "id": "a2ea03fc-e743-47ab-a0fa-7318b3b93279",
   "metadata": {},
   "outputs": [
    {
     "data": {
      "text/plain": [
       "array([[ 1,  2,  3, 10, 20,  4,  5,  6]])"
      ]
     },
     "execution_count": 168,
     "metadata": {},
     "output_type": "execute_result"
    }
   ],
   "source": [
    "np.column_stack([x, 10, 20, y])"
   ]
  },
  {
   "cell_type": "code",
   "execution_count": 169,
   "id": "a56a70d4-444d-49f4-ac26-69b902343a7c",
   "metadata": {},
   "outputs": [],
   "source": [
    "a = np.array([1, 2, 3])\n",
    "b = np.array([4, 5, 6])"
   ]
  },
  {
   "cell_type": "code",
   "execution_count": 170,
   "id": "c125b258-c3ed-410b-a648-a9d8de4dfa88",
   "metadata": {},
   "outputs": [
    {
     "data": {
      "text/plain": [
       "array([1, 2, 3, 4, 5, 6])"
      ]
     },
     "execution_count": 170,
     "metadata": {},
     "output_type": "execute_result"
    }
   ],
   "source": [
    "np.r_[a, b]"
   ]
  },
  {
   "cell_type": "code",
   "execution_count": 171,
   "id": "924e0b99-96fb-4ab2-ba5b-7fdfa90394f9",
   "metadata": {},
   "outputs": [
    {
     "data": {
      "text/plain": [
       "array([1, 2, 3, 4, 5, 6])"
      ]
     },
     "execution_count": 171,
     "metadata": {},
     "output_type": "execute_result"
    }
   ],
   "source": [
    "np.hstack((a, b))"
   ]
  },
  {
   "cell_type": "code",
   "execution_count": 173,
   "id": "3b880647-a18c-458c-afbc-d63b8d1357b0",
   "metadata": {},
   "outputs": [
    {
     "data": {
      "text/plain": [
       "array([[1, 2, 3],\n",
       "       [4, 5, 6]])"
      ]
     },
     "execution_count": 173,
     "metadata": {},
     "output_type": "execute_result"
    }
   ],
   "source": [
    "np.row_stack((a, b))"
   ]
  },
  {
   "cell_type": "code",
   "execution_count": 174,
   "id": "63f15e2a-214e-4a6e-aaf2-9b93df0e546e",
   "metadata": {},
   "outputs": [
    {
     "data": {
      "text/plain": [
       "array([1, 2, 3, 0, 0, 4, 5, 6])"
      ]
     },
     "execution_count": 174,
     "metadata": {},
     "output_type": "execute_result"
    }
   ],
   "source": [
    "np.r_[a, 0, 0, b]"
   ]
  },
  {
   "cell_type": "code",
   "execution_count": 175,
   "id": "907ea5a2-8168-43eb-93fd-89a0bad5407e",
   "metadata": {},
   "outputs": [
    {
     "data": {
      "text/plain": [
       "array([3, 6, 9, 0, 0, 5, 6])"
      ]
     },
     "execution_count": 175,
     "metadata": {},
     "output_type": "execute_result"
    }
   ],
   "source": [
    "np.r_[3:10:3, [0] * 2, 5, 6]"
   ]
  },
  {
   "cell_type": "code",
   "execution_count": 176,
   "id": "db667213-6317-456e-8024-dec0a76eddf9",
   "metadata": {},
   "outputs": [
    {
     "data": {
      "text/plain": [
       "array([-1. , -0.6, -0.2,  0.2,  0.6,  1. ,  0. ,  0. ,  5. ,  6. ])"
      ]
     },
     "execution_count": 176,
     "metadata": {},
     "output_type": "execute_result"
    }
   ],
   "source": [
    "np.r_[-1:1:6j, [0] * 2, 5, 6]"
   ]
  },
  {
   "cell_type": "code",
   "execution_count": 177,
   "id": "5caebc40-5d28-401f-9533-0a28491894e6",
   "metadata": {},
   "outputs": [
    {
     "data": {
      "text/plain": [
       "array([-1. , -0.6, -0.2,  0.2,  0.6,  1. ])"
      ]
     },
     "execution_count": 177,
     "metadata": {},
     "output_type": "execute_result"
    }
   ],
   "source": [
    "np.linspace(-1, 1, 6)"
   ]
  },
  {
   "cell_type": "code",
   "execution_count": 178,
   "id": "2645e69b-a6e4-4467-b011-49d06ee8fdcc",
   "metadata": {},
   "outputs": [
    {
     "data": {
      "text/plain": [
       "array([[0, 1, 2],\n",
       "       [3, 4, 5]])"
      ]
     },
     "execution_count": 178,
     "metadata": {},
     "output_type": "execute_result"
    }
   ],
   "source": [
    "a = np.array([[0, 1, 2], [3, 4, 5]])\n",
    "a"
   ]
  },
  {
   "cell_type": "code",
   "execution_count": 179,
   "id": "3e5b314d-e12b-497b-91fc-485c020d7ede",
   "metadata": {},
   "outputs": [
    {
     "data": {
      "text/plain": [
       "array([[0, 1, 2],\n",
       "       [3, 4, 5],\n",
       "       [0, 1, 2],\n",
       "       [3, 4, 5],\n",
       "       [0, 1, 2],\n",
       "       [3, 4, 5]])"
      ]
     },
     "execution_count": 179,
     "metadata": {},
     "output_type": "execute_result"
    }
   ],
   "source": [
    "np.r_[a, a, a]"
   ]
  },
  {
   "cell_type": "code",
   "execution_count": 180,
   "id": "180add8e-10b9-4895-bbab-3ca300001b6e",
   "metadata": {},
   "outputs": [
    {
     "data": {
      "text/plain": [
       "array([[0, 1, 2],\n",
       "       [3, 4, 5],\n",
       "       [0, 1, 2],\n",
       "       [3, 4, 5]])"
      ]
     },
     "execution_count": 180,
     "metadata": {},
     "output_type": "execute_result"
    }
   ],
   "source": [
    "np.r_['0', a, a]"
   ]
  },
  {
   "cell_type": "code",
   "execution_count": 182,
   "id": "63ef0451-1300-44ae-bfa6-f0a8a931669e",
   "metadata": {},
   "outputs": [
    {
     "data": {
      "text/plain": [
       "array([[0, 1, 2, 0, 1, 2],\n",
       "       [3, 4, 5, 3, 4, 5]])"
      ]
     },
     "execution_count": 182,
     "metadata": {},
     "output_type": "execute_result"
    }
   ],
   "source": [
    "np.r_['-1', a, a]"
   ]
  },
  {
   "cell_type": "code",
   "execution_count": 183,
   "id": "1391fa96-1b86-4f92-afa7-81bb671a024e",
   "metadata": {},
   "outputs": [
    {
     "data": {
      "text/plain": [
       "array([[0, 1, 2, 0, 1, 2],\n",
       "       [3, 4, 5, 3, 4, 5]])"
      ]
     },
     "execution_count": 183,
     "metadata": {},
     "output_type": "execute_result"
    }
   ],
   "source": [
    "np.r_['1', a, a]"
   ]
  },
  {
   "cell_type": "code",
   "execution_count": 184,
   "id": "12d80fb4-eaae-4115-bea5-6de3a04148fa",
   "metadata": {},
   "outputs": [
    {
     "data": {
      "text/plain": [
       "array([[1, 2, 3],\n",
       "       [4, 5, 6]])"
      ]
     },
     "execution_count": 184,
     "metadata": {},
     "output_type": "execute_result"
    }
   ],
   "source": [
    "np.r_['0, 2', [1, 2, 3], [4, 5, 6]]"
   ]
  },
  {
   "cell_type": "code",
   "execution_count": 186,
   "id": "c37333ac-4924-4a5b-aa37-f8b7ea8cf6ae",
   "metadata": {},
   "outputs": [
    {
     "data": {
      "text/plain": [
       "array([[[1, 2, 3]],\n",
       "\n",
       "       [[4, 5, 6]]])"
      ]
     },
     "execution_count": 186,
     "metadata": {},
     "output_type": "execute_result"
    }
   ],
   "source": [
    "np.r_['0, 3', [1, 2, 3], [4, 5, 6]]"
   ]
  },
  {
   "cell_type": "code",
   "execution_count": 187,
   "id": "c15e9503-6c49-4ee9-9dee-967e86a824e1",
   "metadata": {},
   "outputs": [
    {
     "data": {
      "text/plain": [
       "array([[[1]],\n",
       "\n",
       "       [[2]],\n",
       "\n",
       "       [[3]],\n",
       "\n",
       "       [[4]],\n",
       "\n",
       "       [[5]],\n",
       "\n",
       "       [[6]]])"
      ]
     },
     "execution_count": 187,
     "metadata": {},
     "output_type": "execute_result"
    }
   ],
   "source": [
    "np.r_['0, 3, 0', [1, 2, 3], [4, 5, 6]]"
   ]
  },
  {
   "cell_type": "code",
   "execution_count": 188,
   "id": "56374d25-abcb-4a8d-a259-f679b893447d",
   "metadata": {},
   "outputs": [
    {
     "data": {
      "text/plain": [
       "array([[[1]],\n",
       "\n",
       "       [[2]],\n",
       "\n",
       "       [[3]],\n",
       "\n",
       "       [[4]],\n",
       "\n",
       "       [[5]],\n",
       "\n",
       "       [[6]]])"
      ]
     },
     "execution_count": 188,
     "metadata": {},
     "output_type": "execute_result"
    }
   ],
   "source": [
    "np.r_['0, 3, 0', [1, 2, 3], [4, 5, 6]]"
   ]
  },
  {
   "cell_type": "code",
   "execution_count": 189,
   "id": "94f08944-3062-4fc6-98a6-1b1179e2f03f",
   "metadata": {},
   "outputs": [
    {
     "data": {
      "text/plain": [
       "array([[[1],\n",
       "        [2],\n",
       "        [3]],\n",
       "\n",
       "       [[4],\n",
       "        [5],\n",
       "        [6]]])"
      ]
     },
     "execution_count": 189,
     "metadata": {},
     "output_type": "execute_result"
    }
   ],
   "source": [
    "np.r_['0, 3, 1', [1, 2, 3], [4, 5, 6]]"
   ]
  },
  {
   "cell_type": "code",
   "execution_count": 190,
   "id": "e124679a-3139-4261-9f2b-c862aba363c5",
   "metadata": {},
   "outputs": [
    {
     "data": {
      "text/plain": [
       "(2, 3, 1)"
      ]
     },
     "execution_count": 190,
     "metadata": {},
     "output_type": "execute_result"
    }
   ],
   "source": [
    "np.r_['0, 3, 1', [1, 2, 3], [4, 5, 6]].shape"
   ]
  },
  {
   "cell_type": "code",
   "execution_count": 191,
   "id": "009e7965-4737-4956-abe6-5b5a17beb748",
   "metadata": {},
   "outputs": [
    {
     "data": {
      "text/plain": [
       "array([[[1, 2, 3]],\n",
       "\n",
       "       [[4, 5, 6]]])"
      ]
     },
     "execution_count": 191,
     "metadata": {},
     "output_type": "execute_result"
    }
   ],
   "source": [
    "np.r_['0, 3, 2', [1, 2, 3], [4, 5, 6]]"
   ]
  },
  {
   "cell_type": "code",
   "execution_count": 192,
   "id": "d1e6136a-6f59-444f-ac29-ed7ee1301b46",
   "metadata": {},
   "outputs": [
    {
     "name": "stdout",
     "output_type": "stream",
     "text": [
      "(3,)\n",
      "(3,)\n"
     ]
    }
   ],
   "source": [
    "a = np.array([1, 2, 3])\n",
    "b = np.array([4, 5, 6])\n",
    "\n",
    "print(a.shape)\n",
    "print(b.shape)"
   ]
  },
  {
   "cell_type": "code",
   "execution_count": 193,
   "id": "3d818d98-9292-4a75-8681-e5830bde91cd",
   "metadata": {},
   "outputs": [
    {
     "data": {
      "text/plain": [
       "array([1, 2, 3, 4, 5, 6])"
      ]
     },
     "execution_count": 193,
     "metadata": {},
     "output_type": "execute_result"
    }
   ],
   "source": [
    "np.hstack((a, b))"
   ]
  },
  {
   "cell_type": "code",
   "execution_count": 195,
   "id": "afa322bb-96ce-4e82-b4a1-a619d81ae595",
   "metadata": {},
   "outputs": [
    {
     "data": {
      "text/plain": [
       "array([1, 2, 3, 4, 5, 6])"
      ]
     },
     "execution_count": 195,
     "metadata": {},
     "output_type": "execute_result"
    }
   ],
   "source": [
    "np.r_[a, b]"
   ]
  },
  {
   "cell_type": "code",
   "execution_count": 196,
   "id": "11873366-5bb0-4d82-843a-7d21a51b8e84",
   "metadata": {},
   "outputs": [
    {
     "data": {
      "text/plain": [
       "array([1, 2, 3, 4, 5, 6])"
      ]
     },
     "execution_count": 196,
     "metadata": {},
     "output_type": "execute_result"
    }
   ],
   "source": [
    "np.concatenate((a, b))"
   ]
  },
  {
   "cell_type": "code",
   "execution_count": 197,
   "id": "a420d5f4-cf3e-41e0-8f21-ea4d3d590ca4",
   "metadata": {},
   "outputs": [
    {
     "name": "stdout",
     "output_type": "stream",
     "text": [
      "(3,)\n",
      "(3,)\n"
     ]
    }
   ],
   "source": [
    "a = np.array([1, 2, 3])\n",
    "b = np.array([4, 5, 6])\n",
    "\n",
    "print(a.shape)\n",
    "print(b.shape)"
   ]
  },
  {
   "cell_type": "code",
   "execution_count": 198,
   "id": "0683a5cf-db7c-4f84-9804-42b2749953bf",
   "metadata": {},
   "outputs": [
    {
     "data": {
      "text/plain": [
       "array([[1, 2, 3],\n",
       "       [4, 5, 6]])"
      ]
     },
     "execution_count": 198,
     "metadata": {},
     "output_type": "execute_result"
    }
   ],
   "source": [
    "np.vstack((a, b))"
   ]
  },
  {
   "cell_type": "code",
   "execution_count": 199,
   "id": "36b4fb75-01d6-492d-9af5-992fa61e1f18",
   "metadata": {},
   "outputs": [
    {
     "data": {
      "text/plain": [
       "array([[1, 2, 3],\n",
       "       [4, 5, 6]])"
      ]
     },
     "execution_count": 199,
     "metadata": {},
     "output_type": "execute_result"
    }
   ],
   "source": [
    "np.row_stack((a, b))"
   ]
  },
  {
   "cell_type": "code",
   "execution_count": 200,
   "id": "b558b5f7-efff-41b1-b8d3-177e28aad066",
   "metadata": {},
   "outputs": [
    {
     "data": {
      "text/plain": [
       "array([[1, 2, 3],\n",
       "       [4, 5, 6]])"
      ]
     },
     "execution_count": 200,
     "metadata": {},
     "output_type": "execute_result"
    }
   ],
   "source": [
    "np.r_[a[np.newaxis, :], b[np.newaxis, :]]"
   ]
  },
  {
   "cell_type": "code",
   "execution_count": 201,
   "id": "27fcb930-dae6-4e25-b8c3-c23515a6dff1",
   "metadata": {},
   "outputs": [
    {
     "data": {
      "text/plain": [
       "array([[1, 2, 3],\n",
       "       [4, 5, 6]])"
      ]
     },
     "execution_count": 201,
     "metadata": {},
     "output_type": "execute_result"
    }
   ],
   "source": [
    "np.concatenate((a[np.newaxis, :], b[np.newaxis, :]))"
   ]
  },
  {
   "cell_type": "code",
   "execution_count": 202,
   "id": "23737b57-e4e3-4f58-ba24-8a0eb7b84dc1",
   "metadata": {},
   "outputs": [
    {
     "name": "stdout",
     "output_type": "stream",
     "text": [
      "(3,)\n",
      "(3,)\n"
     ]
    }
   ],
   "source": [
    "a = np.array([1, 2, 3])\n",
    "b = np.array([4, 5, 6])\n",
    "\n",
    "print(a.shape)\n",
    "print(b.shape)"
   ]
  },
  {
   "cell_type": "code",
   "execution_count": 203,
   "id": "57ce35b6-911e-491c-a6cf-2003e82f250b",
   "metadata": {},
   "outputs": [
    {
     "data": {
      "text/plain": [
       "array([[1, 4],\n",
       "       [2, 5],\n",
       "       [3, 6]])"
      ]
     },
     "execution_count": 203,
     "metadata": {},
     "output_type": "execute_result"
    }
   ],
   "source": [
    "np.column_stack((a, b))"
   ]
  },
  {
   "cell_type": "code",
   "execution_count": 204,
   "id": "bdbd97f1-ba35-4416-9f2f-d29ee389226d",
   "metadata": {},
   "outputs": [
    {
     "data": {
      "text/plain": [
       "array([[1, 4],\n",
       "       [2, 5],\n",
       "       [3, 6]])"
      ]
     },
     "execution_count": 204,
     "metadata": {},
     "output_type": "execute_result"
    }
   ],
   "source": [
    "np.hstack((a[:, np.newaxis], b[:, np.newaxis]))"
   ]
  },
  {
   "cell_type": "code",
   "execution_count": 205,
   "id": "b661013d-032e-4c0f-9e4d-ad9d3bd5aae9",
   "metadata": {},
   "outputs": [
    {
     "data": {
      "text/plain": [
       "array([1, 2, 3, 4, 5, 6])"
      ]
     },
     "execution_count": 205,
     "metadata": {},
     "output_type": "execute_result"
    }
   ],
   "source": [
    "np.r_[a, b]"
   ]
  },
  {
   "cell_type": "code",
   "execution_count": 206,
   "id": "07ab7fb4-3df4-4675-8b10-a69d08641348",
   "metadata": {},
   "outputs": [
    {
     "data": {
      "text/plain": [
       "array([[1, 4],\n",
       "       [2, 5],\n",
       "       [3, 6]])"
      ]
     },
     "execution_count": 206,
     "metadata": {},
     "output_type": "execute_result"
    }
   ],
   "source": [
    "np.concatenate(((a[:, np.newaxis], b[:, np.newaxis])), axis = 1)"
   ]
  },
  {
   "cell_type": "code",
   "execution_count": 208,
   "id": "016b5e15-7791-4e03-a691-ab7324235bcc",
   "metadata": {},
   "outputs": [
    {
     "data": {
      "text/plain": [
       "array([0., 1., 2., 3., 4., 5., 6., 7., 8.])"
      ]
     },
     "execution_count": 208,
     "metadata": {},
     "output_type": "execute_result"
    }
   ],
   "source": [
    "x = np.arange(9.0)\n",
    "x"
   ]
  },
  {
   "cell_type": "code",
   "execution_count": 209,
   "id": "08bb52d0-7f51-4704-abb9-69826155c9f9",
   "metadata": {},
   "outputs": [
    {
     "data": {
      "text/plain": [
       "[array([0., 1., 2.]), array([3., 4., 5.]), array([6., 7., 8.])]"
      ]
     },
     "execution_count": 209,
     "metadata": {},
     "output_type": "execute_result"
    }
   ],
   "source": [
    "s = np.split(x, 3)\n",
    "s"
   ]
  },
  {
   "cell_type": "code",
   "execution_count": 210,
   "id": "a1fa48a0-d6b9-41cb-8498-cd84f46f9844",
   "metadata": {},
   "outputs": [
    {
     "ename": "ValueError",
     "evalue": "array split does not result in an equal division",
     "output_type": "error",
     "traceback": [
      "\u001b[1;31m---------------------------------------------------------------------------\u001b[0m",
      "\u001b[1;31mValueError\u001b[0m                                Traceback (most recent call last)",
      "Cell \u001b[1;32mIn[210], line 1\u001b[0m\n\u001b[1;32m----> 1\u001b[0m np\u001b[38;5;241m.\u001b[39msplit(x, \u001b[38;5;241m4\u001b[39m)\n",
      "File \u001b[1;32m~\\anaconda3\\Lib\\site-packages\\numpy\\lib\\shape_base.py:864\u001b[0m, in \u001b[0;36msplit\u001b[1;34m(ary, indices_or_sections, axis)\u001b[0m\n\u001b[0;32m    862\u001b[0m     N \u001b[38;5;241m=\u001b[39m ary\u001b[38;5;241m.\u001b[39mshape[axis]\n\u001b[0;32m    863\u001b[0m     \u001b[38;5;28;01mif\u001b[39;00m N \u001b[38;5;241m%\u001b[39m sections:\n\u001b[1;32m--> 864\u001b[0m         \u001b[38;5;28;01mraise\u001b[39;00m \u001b[38;5;167;01mValueError\u001b[39;00m(\n\u001b[0;32m    865\u001b[0m             \u001b[38;5;124m'\u001b[39m\u001b[38;5;124marray split does not result in an equal division\u001b[39m\u001b[38;5;124m'\u001b[39m) \u001b[38;5;28;01mfrom\u001b[39;00m \u001b[38;5;28;01mNone\u001b[39;00m\n\u001b[0;32m    866\u001b[0m \u001b[38;5;28;01mreturn\u001b[39;00m array_split(ary, indices_or_sections, axis)\n",
      "\u001b[1;31mValueError\u001b[0m: array split does not result in an equal division"
     ]
    }
   ],
   "source": [
    "np.split(x, 4)"
   ]
  },
  {
   "cell_type": "code",
   "execution_count": 211,
   "id": "777dea05-890b-41c7-ac88-978b509c735a",
   "metadata": {},
   "outputs": [
    {
     "data": {
      "text/plain": [
       "array([1, 2, 3, 4, 5, 6, 7, 8, 9])"
      ]
     },
     "execution_count": 211,
     "metadata": {},
     "output_type": "execute_result"
    }
   ],
   "source": [
    "x = np.arange(1, 10)\n",
    "x"
   ]
  },
  {
   "cell_type": "code",
   "execution_count": 212,
   "id": "c427dbfb-63eb-4bb1-af55-9675b001c429",
   "metadata": {},
   "outputs": [
    {
     "data": {
      "text/plain": [
       "[array([1, 2]), array([3, 4, 5, 6]), array([7, 8, 9])]"
      ]
     },
     "execution_count": 212,
     "metadata": {},
     "output_type": "execute_result"
    }
   ],
   "source": [
    "np.split(x, [2, 6])"
   ]
  },
  {
   "cell_type": "code",
   "execution_count": 213,
   "id": "30a99dc9-0e0a-43f9-a63e-88530cfdd192",
   "metadata": {},
   "outputs": [
    {
     "data": {
      "text/plain": [
       "array([10, 20, 30, 40, 50, 60])"
      ]
     },
     "execution_count": 213,
     "metadata": {},
     "output_type": "execute_result"
    }
   ],
   "source": [
    "y = np.arange(10, 61, 10)\n",
    "y"
   ]
  },
  {
   "cell_type": "code",
   "execution_count": 214,
   "id": "b304c688-f4cd-47b4-8125-ebc5d9450417",
   "metadata": {},
   "outputs": [
    {
     "data": {
      "text/plain": [
       "[array([10, 20]), array([30]), array([40]), array([50, 60])]"
      ]
     },
     "execution_count": 214,
     "metadata": {},
     "output_type": "execute_result"
    }
   ],
   "source": [
    "np.split(y, [2, 3, 4])"
   ]
  },
  {
   "cell_type": "code",
   "execution_count": 215,
   "id": "b0d48139-b828-489a-b37e-dd419de50146",
   "metadata": {},
   "outputs": [
    {
     "data": {
      "text/plain": [
       "[array([10, 20]),\n",
       " array([30]),\n",
       " array([40]),\n",
       " array([50, 60]),\n",
       " array([], dtype=int32)]"
      ]
     },
     "execution_count": 215,
     "metadata": {},
     "output_type": "execute_result"
    }
   ],
   "source": [
    "np.split(y, [2, 3, 4, 6])"
   ]
  },
  {
   "cell_type": "code",
   "execution_count": 216,
   "id": "ca76dc41-bc9e-4429-8642-b706c3b2310a",
   "metadata": {},
   "outputs": [
    {
     "data": {
      "text/plain": [
       "array([50, 60])"
      ]
     },
     "execution_count": 216,
     "metadata": {},
     "output_type": "execute_result"
    }
   ],
   "source": [
    "y[4:6]"
   ]
  },
  {
   "cell_type": "code",
   "execution_count": 217,
   "id": "581f68ca-23af-4614-834a-3c74bcb4689e",
   "metadata": {},
   "outputs": [
    {
     "data": {
      "text/plain": [
       "array([], dtype=int32)"
      ]
     },
     "execution_count": 217,
     "metadata": {},
     "output_type": "execute_result"
    }
   ],
   "source": [
    "y[6:]"
   ]
  },
  {
   "cell_type": "code",
   "execution_count": 219,
   "id": "39a87799-504c-4b6f-bc78-f33d12e55b16",
   "metadata": {},
   "outputs": [
    {
     "data": {
      "text/plain": [
       "array([[ 0,  1,  2,  3,  4,  5,  6,  7,  8,  9, 10, 11],\n",
       "       [12, 13, 14, 15, 16, 17, 18, 19, 20, 21, 22, 23]])"
      ]
     },
     "execution_count": 219,
     "metadata": {},
     "output_type": "execute_result"
    }
   ],
   "source": [
    "a = np.arange(24).reshape(2, 12)\n",
    "a"
   ]
  },
  {
   "cell_type": "code",
   "execution_count": 220,
   "id": "fd595d89-0eb8-46d4-be7f-7f74ba1280d5",
   "metadata": {},
   "outputs": [
    {
     "data": {
      "text/plain": [
       "[array([[ 0,  1,  2,  3],\n",
       "        [12, 13, 14, 15]]),\n",
       " array([[ 4,  5,  6,  7],\n",
       "        [16, 17, 18, 19]]),\n",
       " array([[ 8,  9, 10, 11],\n",
       "        [20, 21, 22, 23]])]"
      ]
     },
     "execution_count": 220,
     "metadata": {},
     "output_type": "execute_result"
    }
   ],
   "source": [
    "np.split(a, 3, axis = 1)"
   ]
  },
  {
   "cell_type": "code",
   "execution_count": 221,
   "id": "9482d0a3-33aa-4d46-bbc2-8d40aa1d73c4",
   "metadata": {},
   "outputs": [
    {
     "data": {
      "text/plain": [
       "[array([[ 0,  1,  2],\n",
       "        [12, 13, 14]]),\n",
       " array([[ 3,  4,  5],\n",
       "        [15, 16, 17]]),\n",
       " array([[ 6,  7,  8],\n",
       "        [18, 19, 20]]),\n",
       " array([[ 9, 10, 11],\n",
       "        [21, 22, 23]])]"
      ]
     },
     "execution_count": 221,
     "metadata": {},
     "output_type": "execute_result"
    }
   ],
   "source": [
    "np.split(a, 4, axis = 1)"
   ]
  },
  {
   "cell_type": "code",
   "execution_count": 222,
   "id": "4b046405-c5fb-4d12-be7d-8b7e9879ea1d",
   "metadata": {},
   "outputs": [
    {
     "ename": "ValueError",
     "evalue": "array split does not result in an equal division",
     "output_type": "error",
     "traceback": [
      "\u001b[1;31m---------------------------------------------------------------------------\u001b[0m",
      "\u001b[1;31mValueError\u001b[0m                                Traceback (most recent call last)",
      "Cell \u001b[1;32mIn[222], line 1\u001b[0m\n\u001b[1;32m----> 1\u001b[0m np\u001b[38;5;241m.\u001b[39msplit(a, \u001b[38;5;241m5\u001b[39m, axis \u001b[38;5;241m=\u001b[39m \u001b[38;5;241m1\u001b[39m)\n",
      "File \u001b[1;32m~\\anaconda3\\Lib\\site-packages\\numpy\\lib\\shape_base.py:864\u001b[0m, in \u001b[0;36msplit\u001b[1;34m(ary, indices_or_sections, axis)\u001b[0m\n\u001b[0;32m    862\u001b[0m     N \u001b[38;5;241m=\u001b[39m ary\u001b[38;5;241m.\u001b[39mshape[axis]\n\u001b[0;32m    863\u001b[0m     \u001b[38;5;28;01mif\u001b[39;00m N \u001b[38;5;241m%\u001b[39m sections:\n\u001b[1;32m--> 864\u001b[0m         \u001b[38;5;28;01mraise\u001b[39;00m \u001b[38;5;167;01mValueError\u001b[39;00m(\n\u001b[0;32m    865\u001b[0m             \u001b[38;5;124m'\u001b[39m\u001b[38;5;124marray split does not result in an equal division\u001b[39m\u001b[38;5;124m'\u001b[39m) \u001b[38;5;28;01mfrom\u001b[39;00m \u001b[38;5;28;01mNone\u001b[39;00m\n\u001b[0;32m    866\u001b[0m \u001b[38;5;28;01mreturn\u001b[39;00m array_split(ary, indices_or_sections, axis)\n",
      "\u001b[1;31mValueError\u001b[0m: array split does not result in an equal division"
     ]
    }
   ],
   "source": [
    "np.split(a, 5, axis = 1)"
   ]
  },
  {
   "cell_type": "code",
   "execution_count": 227,
   "id": "6809d294-c824-4f30-b5ed-e2114abb8191",
   "metadata": {},
   "outputs": [
    {
     "data": {
      "text/plain": [
       "[array([[ 0,  1,  2],\n",
       "        [12, 13, 14]]),\n",
       " array([[ 3,  4],\n",
       "        [15, 16]]),\n",
       " array([[ 5,  6],\n",
       "        [17, 18]]),\n",
       " array([[ 7,  8,  9, 10, 11],\n",
       "        [19, 20, 21, 22, 23]])]"
      ]
     },
     "execution_count": 227,
     "metadata": {},
     "output_type": "execute_result"
    }
   ],
   "source": [
    "np.split(a, [3, 5, 7], axis = 1)"
   ]
  },
  {
   "cell_type": "code",
   "execution_count": 225,
   "id": "1f8da518-034c-469a-98ee-57590c3e2954",
   "metadata": {},
   "outputs": [
    {
     "data": {
      "text/plain": [
       "array([[ 0,  1,  2,  3],\n",
       "       [ 4,  5,  6,  7],\n",
       "       [ 8,  9, 10, 11],\n",
       "       [12, 13, 14, 15],\n",
       "       [16, 17, 18, 19],\n",
       "       [20, 21, 22, 23]])"
      ]
     },
     "execution_count": 225,
     "metadata": {},
     "output_type": "execute_result"
    }
   ],
   "source": [
    "b = np.arange(24).reshape(6, 4)\n",
    "b"
   ]
  },
  {
   "cell_type": "code",
   "execution_count": 228,
   "id": "fc334db3-e5ab-4f70-93ae-264b6786be8c",
   "metadata": {},
   "outputs": [
    {
     "data": {
      "text/plain": [
       "[array([[0, 1, 2, 3],\n",
       "        [4, 5, 6, 7]]),\n",
       " array([[ 8,  9, 10, 11],\n",
       "        [12, 13, 14, 15]]),\n",
       " array([[16, 17, 18, 19],\n",
       "        [20, 21, 22, 23]])]"
      ]
     },
     "execution_count": 228,
     "metadata": {},
     "output_type": "execute_result"
    }
   ],
   "source": [
    "np.split(b, 3, axis = 0)"
   ]
  },
  {
   "cell_type": "code",
   "execution_count": 229,
   "id": "11c23a73-a74b-4da8-94f2-afe7e44646b1",
   "metadata": {},
   "outputs": [
    {
     "data": {
      "text/plain": [
       "[array([[0, 1, 2, 3],\n",
       "        [4, 5, 6, 7]]),\n",
       " array([[ 8,  9, 10, 11],\n",
       "        [12, 13, 14, 15]]),\n",
       " array([[16, 17, 18, 19],\n",
       "        [20, 21, 22, 23]]),\n",
       " array([], shape=(0, 4), dtype=int32)]"
      ]
     },
     "execution_count": 229,
     "metadata": {},
     "output_type": "execute_result"
    }
   ],
   "source": [
    "np.split(b, [2, 4, 6], axis = 0)"
   ]
  },
  {
   "cell_type": "code",
   "execution_count": 230,
   "id": "8d4e2485-ac04-4716-8eec-16059210b676",
   "metadata": {},
   "outputs": [
    {
     "data": {
      "text/plain": [
       "array([0, 1, 2, 3, 4, 5, 6, 7, 8, 9])"
      ]
     },
     "execution_count": 230,
     "metadata": {},
     "output_type": "execute_result"
    }
   ],
   "source": [
    "a = np.arange(10)\n",
    "a"
   ]
  },
  {
   "cell_type": "code",
   "execution_count": 231,
   "id": "479ddd8b-2bd6-4654-af50-d04f46c83d3b",
   "metadata": {},
   "outputs": [
    {
     "data": {
      "text/plain": [
       "[array([0, 1, 2, 3, 4]), array([5, 6, 7, 8, 9])]"
      ]
     },
     "execution_count": 231,
     "metadata": {},
     "output_type": "execute_result"
    }
   ],
   "source": [
    "np.hsplit(a, 2)"
   ]
  },
  {
   "cell_type": "code",
   "execution_count": 232,
   "id": "37131026-0a18-474d-ad59-f1d6f8dbf18a",
   "metadata": {},
   "outputs": [
    {
     "data": {
      "text/plain": [
       "[array([0, 1]), array([2, 3, 4]), array([5, 6, 7, 8, 9])]"
      ]
     },
     "execution_count": 232,
     "metadata": {},
     "output_type": "execute_result"
    }
   ],
   "source": [
    "np.hsplit(a, [2, 5])"
   ]
  },
  {
   "cell_type": "code",
   "execution_count": 235,
   "id": "5ce3da57-2557-43d1-b988-0bc7a7036d65",
   "metadata": {},
   "outputs": [
    {
     "data": {
      "text/plain": [
       "array([[ 0,  1,  2,  3,  4,  5,  6,  7,  8,  9, 10, 11],\n",
       "       [12, 13, 14, 15, 16, 17, 18, 19, 20, 21, 22, 23]])"
      ]
     },
     "execution_count": 235,
     "metadata": {},
     "output_type": "execute_result"
    }
   ],
   "source": [
    "a = np.arange(24).reshape(2, 12)\n",
    "a"
   ]
  },
  {
   "cell_type": "code",
   "execution_count": 236,
   "id": "eac84b8c-7d25-443c-b1aa-515c9f310a6c",
   "metadata": {},
   "outputs": [
    {
     "data": {
      "text/plain": [
       "[array([[ 0,  1,  2,  3],\n",
       "        [12, 13, 14, 15]]),\n",
       " array([[ 4,  5,  6,  7],\n",
       "        [16, 17, 18, 19]]),\n",
       " array([[ 8,  9, 10, 11],\n",
       "        [20, 21, 22, 23]])]"
      ]
     },
     "execution_count": 236,
     "metadata": {},
     "output_type": "execute_result"
    }
   ],
   "source": [
    "np.hsplit(a, 3)"
   ]
  },
  {
   "cell_type": "code",
   "execution_count": 237,
   "id": "f0e4b86e-1eee-452f-92b2-96facbb40bcb",
   "metadata": {},
   "outputs": [
    {
     "data": {
      "text/plain": [
       "[array([[ 0,  1,  2],\n",
       "        [12, 13, 14]]),\n",
       " array([[ 3,  4,  5],\n",
       "        [15, 16, 17]]),\n",
       " array([[ 6,  7,  8],\n",
       "        [18, 19, 20]]),\n",
       " array([[ 9, 10, 11],\n",
       "        [21, 22, 23]])]"
      ]
     },
     "execution_count": 237,
     "metadata": {},
     "output_type": "execute_result"
    }
   ],
   "source": [
    "np.hsplit(a, 4)"
   ]
  },
  {
   "cell_type": "code",
   "execution_count": 239,
   "id": "ab8174f4-2c92-4b64-bb9c-435cca794fbf",
   "metadata": {},
   "outputs": [
    {
     "ename": "ValueError",
     "evalue": "array split does not result in an equal division",
     "output_type": "error",
     "traceback": [
      "\u001b[1;31m---------------------------------------------------------------------------\u001b[0m",
      "\u001b[1;31mValueError\u001b[0m                                Traceback (most recent call last)",
      "Cell \u001b[1;32mIn[239], line 1\u001b[0m\n\u001b[1;32m----> 1\u001b[0m np\u001b[38;5;241m.\u001b[39mhsplit(a, \u001b[38;5;241m5\u001b[39m)\n",
      "File \u001b[1;32m~\\anaconda3\\Lib\\site-packages\\numpy\\lib\\shape_base.py:938\u001b[0m, in \u001b[0;36mhsplit\u001b[1;34m(ary, indices_or_sections)\u001b[0m\n\u001b[0;32m    936\u001b[0m     \u001b[38;5;28;01mraise\u001b[39;00m \u001b[38;5;167;01mValueError\u001b[39;00m(\u001b[38;5;124m'\u001b[39m\u001b[38;5;124mhsplit only works on arrays of 1 or more dimensions\u001b[39m\u001b[38;5;124m'\u001b[39m)\n\u001b[0;32m    937\u001b[0m \u001b[38;5;28;01mif\u001b[39;00m ary\u001b[38;5;241m.\u001b[39mndim \u001b[38;5;241m>\u001b[39m \u001b[38;5;241m1\u001b[39m:\n\u001b[1;32m--> 938\u001b[0m     \u001b[38;5;28;01mreturn\u001b[39;00m split(ary, indices_or_sections, \u001b[38;5;241m1\u001b[39m)\n\u001b[0;32m    939\u001b[0m \u001b[38;5;28;01melse\u001b[39;00m:\n\u001b[0;32m    940\u001b[0m     \u001b[38;5;28;01mreturn\u001b[39;00m split(ary, indices_or_sections, \u001b[38;5;241m0\u001b[39m)\n",
      "File \u001b[1;32m~\\anaconda3\\Lib\\site-packages\\numpy\\lib\\shape_base.py:864\u001b[0m, in \u001b[0;36msplit\u001b[1;34m(ary, indices_or_sections, axis)\u001b[0m\n\u001b[0;32m    862\u001b[0m     N \u001b[38;5;241m=\u001b[39m ary\u001b[38;5;241m.\u001b[39mshape[axis]\n\u001b[0;32m    863\u001b[0m     \u001b[38;5;28;01mif\u001b[39;00m N \u001b[38;5;241m%\u001b[39m sections:\n\u001b[1;32m--> 864\u001b[0m         \u001b[38;5;28;01mraise\u001b[39;00m \u001b[38;5;167;01mValueError\u001b[39;00m(\n\u001b[0;32m    865\u001b[0m             \u001b[38;5;124m'\u001b[39m\u001b[38;5;124marray split does not result in an equal division\u001b[39m\u001b[38;5;124m'\u001b[39m) \u001b[38;5;28;01mfrom\u001b[39;00m \u001b[38;5;28;01mNone\u001b[39;00m\n\u001b[0;32m    866\u001b[0m \u001b[38;5;28;01mreturn\u001b[39;00m array_split(ary, indices_or_sections, axis)\n",
      "\u001b[1;31mValueError\u001b[0m: array split does not result in an equal division"
     ]
    }
   ],
   "source": [
    "np.hsplit(a, 5)"
   ]
  },
  {
   "cell_type": "code",
   "execution_count": 240,
   "id": "8e9d9d6a-6529-4247-85bd-6db645422857",
   "metadata": {},
   "outputs": [
    {
     "data": {
      "text/plain": [
       "array([[ 0,  1,  2],\n",
       "       [12, 13, 14]])"
      ]
     },
     "execution_count": 240,
     "metadata": {},
     "output_type": "execute_result"
    }
   ],
   "source": [
    "a[:, :3]"
   ]
  },
  {
   "cell_type": "code",
   "execution_count": 241,
   "id": "bf3d96e3-95a8-4667-8550-1a82629f0ff3",
   "metadata": {},
   "outputs": [
    {
     "data": {
      "text/plain": [
       "array([[ 8,  9, 10, 11],\n",
       "       [20, 21, 22, 23]])"
      ]
     },
     "execution_count": 241,
     "metadata": {},
     "output_type": "execute_result"
    }
   ],
   "source": [
    "a[:, 8:]"
   ]
  },
  {
   "cell_type": "code",
   "execution_count": 242,
   "id": "f4f63bf4-aeb5-44dd-911d-7b427d98c4ce",
   "metadata": {},
   "outputs": [
    {
     "data": {
      "text/plain": [
       "array([0, 1, 2, 3, 4, 5, 6, 7, 8, 9])"
      ]
     },
     "execution_count": 242,
     "metadata": {},
     "output_type": "execute_result"
    }
   ],
   "source": [
    "a = np.arange(10)\n",
    "a"
   ]
  },
  {
   "cell_type": "code",
   "execution_count": 243,
   "id": "c2be2d0a-4bcb-4432-a497-c053802a65e9",
   "metadata": {},
   "outputs": [
    {
     "ename": "ValueError",
     "evalue": "vsplit only works on arrays of 2 or more dimensions",
     "output_type": "error",
     "traceback": [
      "\u001b[1;31m---------------------------------------------------------------------------\u001b[0m",
      "\u001b[1;31mValueError\u001b[0m                                Traceback (most recent call last)",
      "Cell \u001b[1;32mIn[243], line 1\u001b[0m\n\u001b[1;32m----> 1\u001b[0m np\u001b[38;5;241m.\u001b[39mvsplit(a, \u001b[38;5;241m2\u001b[39m)\n",
      "File \u001b[1;32m~\\anaconda3\\Lib\\site-packages\\numpy\\lib\\shape_base.py:988\u001b[0m, in \u001b[0;36mvsplit\u001b[1;34m(ary, indices_or_sections)\u001b[0m\n\u001b[0;32m    945\u001b[0m \u001b[38;5;250m\u001b[39m\u001b[38;5;124;03m\"\"\"\u001b[39;00m\n\u001b[0;32m    946\u001b[0m \u001b[38;5;124;03mSplit an array into multiple sub-arrays vertically (row-wise).\u001b[39;00m\n\u001b[0;32m    947\u001b[0m \n\u001b[1;32m   (...)\u001b[0m\n\u001b[0;32m    985\u001b[0m \n\u001b[0;32m    986\u001b[0m \u001b[38;5;124;03m\"\"\"\u001b[39;00m\n\u001b[0;32m    987\u001b[0m \u001b[38;5;28;01mif\u001b[39;00m _nx\u001b[38;5;241m.\u001b[39mndim(ary) \u001b[38;5;241m<\u001b[39m \u001b[38;5;241m2\u001b[39m:\n\u001b[1;32m--> 988\u001b[0m     \u001b[38;5;28;01mraise\u001b[39;00m \u001b[38;5;167;01mValueError\u001b[39;00m(\u001b[38;5;124m'\u001b[39m\u001b[38;5;124mvsplit only works on arrays of 2 or more dimensions\u001b[39m\u001b[38;5;124m'\u001b[39m)\n\u001b[0;32m    989\u001b[0m \u001b[38;5;28;01mreturn\u001b[39;00m split(ary, indices_or_sections, \u001b[38;5;241m0\u001b[39m)\n",
      "\u001b[1;31mValueError\u001b[0m: vsplit only works on arrays of 2 or more dimensions"
     ]
    }
   ],
   "source": [
    "np.vsplit(a, 2)"
   ]
  },
  {
   "cell_type": "code",
   "execution_count": 244,
   "id": "735c380b-a336-4e39-9b38-2b5f10de1ada",
   "metadata": {},
   "outputs": [
    {
     "data": {
      "text/plain": [
       "array([[ 0,  1,  2],\n",
       "       [ 3,  4,  5],\n",
       "       [ 6,  7,  8],\n",
       "       [ 9, 10, 11],\n",
       "       [12, 13, 14],\n",
       "       [15, 16, 17]])"
      ]
     },
     "execution_count": 244,
     "metadata": {},
     "output_type": "execute_result"
    }
   ],
   "source": [
    "a = np.arange(18).reshape(6, 3)\n",
    "a"
   ]
  },
  {
   "cell_type": "code",
   "execution_count": 245,
   "id": "d020b90f-2f25-4ed3-b5c4-4381e945eebe",
   "metadata": {},
   "outputs": [
    {
     "data": {
      "text/plain": [
       "[array([[0, 1, 2],\n",
       "        [3, 4, 5]]),\n",
       " array([[ 6,  7,  8],\n",
       "        [ 9, 10, 11]]),\n",
       " array([[12, 13, 14],\n",
       "        [15, 16, 17]])]"
      ]
     },
     "execution_count": 245,
     "metadata": {},
     "output_type": "execute_result"
    }
   ],
   "source": [
    "np.vsplit(a, 3)"
   ]
  },
  {
   "cell_type": "code",
   "execution_count": 246,
   "id": "0fab8ffb-f557-4e82-ad73-a49b9a6a91e6",
   "metadata": {},
   "outputs": [
    {
     "ename": "ValueError",
     "evalue": "array split does not result in an equal division",
     "output_type": "error",
     "traceback": [
      "\u001b[1;31m---------------------------------------------------------------------------\u001b[0m",
      "\u001b[1;31mValueError\u001b[0m                                Traceback (most recent call last)",
      "Cell \u001b[1;32mIn[246], line 1\u001b[0m\n\u001b[1;32m----> 1\u001b[0m np\u001b[38;5;241m.\u001b[39mvsplit(a, \u001b[38;5;241m4\u001b[39m)\n",
      "File \u001b[1;32m~\\anaconda3\\Lib\\site-packages\\numpy\\lib\\shape_base.py:989\u001b[0m, in \u001b[0;36mvsplit\u001b[1;34m(ary, indices_or_sections)\u001b[0m\n\u001b[0;32m    987\u001b[0m \u001b[38;5;28;01mif\u001b[39;00m _nx\u001b[38;5;241m.\u001b[39mndim(ary) \u001b[38;5;241m<\u001b[39m \u001b[38;5;241m2\u001b[39m:\n\u001b[0;32m    988\u001b[0m     \u001b[38;5;28;01mraise\u001b[39;00m \u001b[38;5;167;01mValueError\u001b[39;00m(\u001b[38;5;124m'\u001b[39m\u001b[38;5;124mvsplit only works on arrays of 2 or more dimensions\u001b[39m\u001b[38;5;124m'\u001b[39m)\n\u001b[1;32m--> 989\u001b[0m \u001b[38;5;28;01mreturn\u001b[39;00m split(ary, indices_or_sections, \u001b[38;5;241m0\u001b[39m)\n",
      "File \u001b[1;32m~\\anaconda3\\Lib\\site-packages\\numpy\\lib\\shape_base.py:864\u001b[0m, in \u001b[0;36msplit\u001b[1;34m(ary, indices_or_sections, axis)\u001b[0m\n\u001b[0;32m    862\u001b[0m     N \u001b[38;5;241m=\u001b[39m ary\u001b[38;5;241m.\u001b[39mshape[axis]\n\u001b[0;32m    863\u001b[0m     \u001b[38;5;28;01mif\u001b[39;00m N \u001b[38;5;241m%\u001b[39m sections:\n\u001b[1;32m--> 864\u001b[0m         \u001b[38;5;28;01mraise\u001b[39;00m \u001b[38;5;167;01mValueError\u001b[39;00m(\n\u001b[0;32m    865\u001b[0m             \u001b[38;5;124m'\u001b[39m\u001b[38;5;124marray split does not result in an equal division\u001b[39m\u001b[38;5;124m'\u001b[39m) \u001b[38;5;28;01mfrom\u001b[39;00m \u001b[38;5;28;01mNone\u001b[39;00m\n\u001b[0;32m    866\u001b[0m \u001b[38;5;28;01mreturn\u001b[39;00m array_split(ary, indices_or_sections, axis)\n",
      "\u001b[1;31mValueError\u001b[0m: array split does not result in an equal division"
     ]
    }
   ],
   "source": [
    "np.vsplit(a, 4)"
   ]
  },
  {
   "cell_type": "code",
   "execution_count": 247,
   "id": "6cef0682-bbab-4cbf-8039-3bfb77a97dd9",
   "metadata": {},
   "outputs": [
    {
     "data": {
      "text/plain": [
       "[array([[0, 1, 2]]),\n",
       " array([[ 3,  4,  5],\n",
       "        [ 6,  7,  8],\n",
       "        [ 9, 10, 11]]),\n",
       " array([[12, 13, 14],\n",
       "        [15, 16, 17]]),\n",
       " array([], shape=(0, 3), dtype=int32)]"
      ]
     },
     "execution_count": 247,
     "metadata": {},
     "output_type": "execute_result"
    }
   ],
   "source": [
    "np.vsplit(a, (1, 4, 6))"
   ]
  },
  {
   "cell_type": "code",
   "execution_count": 248,
   "id": "490f59e1-a58d-498f-b823-b49ffd7445e3",
   "metadata": {},
   "outputs": [
    {
     "data": {
      "text/plain": [
       "array([[ 3,  4,  5],\n",
       "       [ 6,  7,  8],\n",
       "       [ 9, 10, 11],\n",
       "       [12, 13, 14],\n",
       "       [15, 16, 17]])"
      ]
     },
     "execution_count": 248,
     "metadata": {},
     "output_type": "execute_result"
    }
   ],
   "source": [
    "a[1:, :]"
   ]
  },
  {
   "cell_type": "code",
   "execution_count": 249,
   "id": "b84dad3a-f243-48f9-9f68-ced29bc7c0e6",
   "metadata": {},
   "outputs": [
    {
     "data": {
      "text/plain": [
       "array([[12, 13, 14],\n",
       "       [15, 16, 17]])"
      ]
     },
     "execution_count": 249,
     "metadata": {},
     "output_type": "execute_result"
    }
   ],
   "source": [
    "a[4:6, :]"
   ]
  },
  {
   "cell_type": "code",
   "execution_count": 250,
   "id": "bb3b2b2e-96d4-49df-aba4-696c09dd68ba",
   "metadata": {},
   "outputs": [
    {
     "data": {
      "text/plain": [
       "array([], shape=(0, 3), dtype=int32)"
      ]
     },
     "execution_count": 250,
     "metadata": {},
     "output_type": "execute_result"
    }
   ],
   "source": [
    "a[6:, :]"
   ]
  },
  {
   "cell_type": "code",
   "execution_count": 252,
   "id": "1a860edd-88d2-4d4c-8791-d57934a70563",
   "metadata": {},
   "outputs": [
    {
     "data": {
      "text/plain": [
       "array([[[ 0,  1],\n",
       "        [ 2,  3],\n",
       "        [ 4,  5],\n",
       "        [ 6,  7]],\n",
       "\n",
       "       [[ 8,  9],\n",
       "        [10, 11],\n",
       "        [12, 13],\n",
       "        [14, 15]],\n",
       "\n",
       "       [[16, 17],\n",
       "        [18, 19],\n",
       "        [20, 21],\n",
       "        [22, 23]],\n",
       "\n",
       "       [[24, 25],\n",
       "        [26, 27],\n",
       "        [28, 29],\n",
       "        [30, 31]]])"
      ]
     },
     "execution_count": 252,
     "metadata": {},
     "output_type": "execute_result"
    }
   ],
   "source": [
    "x = np.arange(32).reshape(4, 4, 2)\n",
    "x"
   ]
  },
  {
   "cell_type": "code",
   "execution_count": 253,
   "id": "4fbdc32c-6df7-44ef-8418-cfdc02d8d0d0",
   "metadata": {},
   "outputs": [
    {
     "data": {
      "text/plain": [
       "[array([[[ 0,  1],\n",
       "         [ 2,  3]],\n",
       " \n",
       "        [[ 8,  9],\n",
       "         [10, 11]],\n",
       " \n",
       "        [[16, 17],\n",
       "         [18, 19]],\n",
       " \n",
       "        [[24, 25],\n",
       "         [26, 27]]]),\n",
       " array([[[ 4,  5],\n",
       "         [ 6,  7]],\n",
       " \n",
       "        [[12, 13],\n",
       "         [14, 15]],\n",
       " \n",
       "        [[20, 21],\n",
       "         [22, 23]],\n",
       " \n",
       "        [[28, 29],\n",
       "         [30, 31]]])]"
      ]
     },
     "execution_count": 253,
     "metadata": {},
     "output_type": "execute_result"
    }
   ],
   "source": [
    "np.hsplit(x, 2)"
   ]
  },
  {
   "cell_type": "code",
   "execution_count": 254,
   "id": "f6e99f72-0f96-4ecf-8f84-0b50e6019fb0",
   "metadata": {},
   "outputs": [
    {
     "data": {
      "text/plain": [
       "[array([[[ 0,  1],\n",
       "         [ 2,  3]],\n",
       " \n",
       "        [[ 8,  9],\n",
       "         [10, 11]],\n",
       " \n",
       "        [[16, 17],\n",
       "         [18, 19]],\n",
       " \n",
       "        [[24, 25],\n",
       "         [26, 27]]]),\n",
       " array([[[ 4,  5],\n",
       "         [ 6,  7]],\n",
       " \n",
       "        [[12, 13],\n",
       "         [14, 15]],\n",
       " \n",
       "        [[20, 21],\n",
       "         [22, 23]],\n",
       " \n",
       "        [[28, 29],\n",
       "         [30, 31]]])]"
      ]
     },
     "execution_count": 254,
     "metadata": {},
     "output_type": "execute_result"
    }
   ],
   "source": [
    "np.split(x, 2, axis = 1)"
   ]
  },
  {
   "cell_type": "code",
   "execution_count": 255,
   "id": "75484101-52a3-4ba9-9aba-947b79de3995",
   "metadata": {},
   "outputs": [
    {
     "data": {
      "text/plain": [
       "array([[[ 0,  1],\n",
       "        [ 2,  3]],\n",
       "\n",
       "       [[ 8,  9],\n",
       "        [10, 11]],\n",
       "\n",
       "       [[16, 17],\n",
       "        [18, 19]],\n",
       "\n",
       "       [[24, 25],\n",
       "        [26, 27]]])"
      ]
     },
     "execution_count": 255,
     "metadata": {},
     "output_type": "execute_result"
    }
   ],
   "source": [
    "x[:, :2, :]"
   ]
  },
  {
   "cell_type": "code",
   "execution_count": 256,
   "id": "92347d7f-cd69-4686-b6c5-c6a3e949e845",
   "metadata": {},
   "outputs": [
    {
     "data": {
      "text/plain": [
       "array([[[ 4,  5],\n",
       "        [ 6,  7]],\n",
       "\n",
       "       [[12, 13],\n",
       "        [14, 15]],\n",
       "\n",
       "       [[20, 21],\n",
       "        [22, 23]],\n",
       "\n",
       "       [[28, 29],\n",
       "        [30, 31]]])"
      ]
     },
     "execution_count": 256,
     "metadata": {},
     "output_type": "execute_result"
    }
   ],
   "source": [
    "x[:, 2:, :]"
   ]
  },
  {
   "cell_type": "code",
   "execution_count": 257,
   "id": "d2e75013-efc0-492d-a926-9a5a72152245",
   "metadata": {},
   "outputs": [
    {
     "data": {
      "text/plain": [
       "[array([[[ 0,  1]],\n",
       " \n",
       "        [[ 8,  9]],\n",
       " \n",
       "        [[16, 17]],\n",
       " \n",
       "        [[24, 25]]]),\n",
       " array([[[ 2,  3],\n",
       "         [ 4,  5]],\n",
       " \n",
       "        [[10, 11],\n",
       "         [12, 13]],\n",
       " \n",
       "        [[18, 19],\n",
       "         [20, 21]],\n",
       " \n",
       "        [[26, 27],\n",
       "         [28, 29]]]),\n",
       " array([[[ 6,  7]],\n",
       " \n",
       "        [[14, 15]],\n",
       " \n",
       "        [[22, 23]],\n",
       " \n",
       "        [[30, 31]]])]"
      ]
     },
     "execution_count": 257,
     "metadata": {},
     "output_type": "execute_result"
    }
   ],
   "source": [
    "np.hsplit(x, [1, 3])"
   ]
  },
  {
   "cell_type": "code",
   "execution_count": 258,
   "id": "fe86c6e8-2592-4ff8-bb54-d7c95a2c61a0",
   "metadata": {},
   "outputs": [
    {
     "data": {
      "text/plain": [
       "array([[[ 0,  1],\n",
       "        [ 2,  3],\n",
       "        [ 4,  5],\n",
       "        [ 6,  7]],\n",
       "\n",
       "       [[ 8,  9],\n",
       "        [10, 11],\n",
       "        [12, 13],\n",
       "        [14, 15]],\n",
       "\n",
       "       [[16, 17],\n",
       "        [18, 19],\n",
       "        [20, 21],\n",
       "        [22, 23]],\n",
       "\n",
       "       [[24, 25],\n",
       "        [26, 27],\n",
       "        [28, 29],\n",
       "        [30, 31]]])"
      ]
     },
     "execution_count": 258,
     "metadata": {},
     "output_type": "execute_result"
    }
   ],
   "source": [
    "x = np.arange(32).reshape(4, 4, 2)\n",
    "x"
   ]
  },
  {
   "cell_type": "code",
   "execution_count": 259,
   "id": "8adc0f7e-9c9c-4cd1-952f-1bdd5033aa86",
   "metadata": {},
   "outputs": [
    {
     "data": {
      "text/plain": [
       "[array([[[ 0,  1],\n",
       "         [ 2,  3],\n",
       "         [ 4,  5],\n",
       "         [ 6,  7]],\n",
       " \n",
       "        [[ 8,  9],\n",
       "         [10, 11],\n",
       "         [12, 13],\n",
       "         [14, 15]]]),\n",
       " array([[[16, 17],\n",
       "         [18, 19],\n",
       "         [20, 21],\n",
       "         [22, 23]],\n",
       " \n",
       "        [[24, 25],\n",
       "         [26, 27],\n",
       "         [28, 29],\n",
       "         [30, 31]]])]"
      ]
     },
     "execution_count": 259,
     "metadata": {},
     "output_type": "execute_result"
    }
   ],
   "source": [
    "np.vsplit(x, 2)"
   ]
  },
  {
   "cell_type": "code",
   "execution_count": 260,
   "id": "e10ab87a-1edf-4040-b02b-77ea44fb00b7",
   "metadata": {},
   "outputs": [
    {
     "data": {
      "text/plain": [
       "[array([[[ 0,  1],\n",
       "         [ 2,  3],\n",
       "         [ 4,  5],\n",
       "         [ 6,  7]],\n",
       " \n",
       "        [[ 8,  9],\n",
       "         [10, 11],\n",
       "         [12, 13],\n",
       "         [14, 15]]]),\n",
       " array([[[16, 17],\n",
       "         [18, 19],\n",
       "         [20, 21],\n",
       "         [22, 23]],\n",
       " \n",
       "        [[24, 25],\n",
       "         [26, 27],\n",
       "         [28, 29],\n",
       "         [30, 31]]])]"
      ]
     },
     "execution_count": 260,
     "metadata": {},
     "output_type": "execute_result"
    }
   ],
   "source": [
    "np.split(x, 2, axis = 0)"
   ]
  },
  {
   "cell_type": "code",
   "execution_count": 261,
   "id": "66fffdff-f9fb-4a15-9db4-a91ef17958ea",
   "metadata": {},
   "outputs": [
    {
     "data": {
      "text/plain": [
       "array([[[ 0,  1],\n",
       "        [ 2,  3],\n",
       "        [ 4,  5],\n",
       "        [ 6,  7]],\n",
       "\n",
       "       [[ 8,  9],\n",
       "        [10, 11],\n",
       "        [12, 13],\n",
       "        [14, 15]]])"
      ]
     },
     "execution_count": 261,
     "metadata": {},
     "output_type": "execute_result"
    }
   ],
   "source": [
    "x[:2, :, :]"
   ]
  },
  {
   "cell_type": "code",
   "execution_count": 263,
   "id": "71cc12b3-ddbc-457a-90c3-30dc5ee918a0",
   "metadata": {},
   "outputs": [
    {
     "data": {
      "text/plain": [
       "array([[[16, 17],\n",
       "        [18, 19],\n",
       "        [20, 21],\n",
       "        [22, 23]],\n",
       "\n",
       "       [[24, 25],\n",
       "        [26, 27],\n",
       "        [28, 29],\n",
       "        [30, 31]]])"
      ]
     },
     "execution_count": 263,
     "metadata": {},
     "output_type": "execute_result"
    }
   ],
   "source": [
    "x[2:, :, :]"
   ]
  },
  {
   "cell_type": "code",
   "execution_count": 264,
   "id": "f70de70d-192c-4f34-9d6d-d46aab0862c4",
   "metadata": {},
   "outputs": [
    {
     "data": {
      "text/plain": [
       "[array([[[0, 1],\n",
       "         [2, 3],\n",
       "         [4, 5],\n",
       "         [6, 7]]]),\n",
       " array([[[ 8,  9],\n",
       "         [10, 11],\n",
       "         [12, 13],\n",
       "         [14, 15]],\n",
       " \n",
       "        [[16, 17],\n",
       "         [18, 19],\n",
       "         [20, 21],\n",
       "         [22, 23]]]),\n",
       " array([[[24, 25],\n",
       "         [26, 27],\n",
       "         [28, 29],\n",
       "         [30, 31]]])]"
      ]
     },
     "execution_count": 264,
     "metadata": {},
     "output_type": "execute_result"
    }
   ],
   "source": [
    "np.vsplit(x, [1, 3])"
   ]
  },
  {
   "cell_type": "code",
   "execution_count": 273,
   "id": "07e5bb47-2edd-40bb-a0d7-102c13dce93c",
   "metadata": {},
   "outputs": [
    {
     "data": {
      "text/plain": [
       "array([0., 1., 2., 3., 4., 5., 6., 7., 8.])"
      ]
     },
     "execution_count": 273,
     "metadata": {},
     "output_type": "execute_result"
    }
   ],
   "source": [
    "x = np.arange(9.0)\n",
    "x"
   ]
  },
  {
   "cell_type": "code",
   "execution_count": 267,
   "id": "7ef4bff3-ab9f-4d63-97b2-166868539ed5",
   "metadata": {},
   "outputs": [
    {
     "data": {
      "text/plain": [
       "[array([0., 1., 2., 3., 4.]), array([5., 6., 7., 8.])]"
      ]
     },
     "execution_count": 267,
     "metadata": {},
     "output_type": "execute_result"
    }
   ],
   "source": [
    "np.array_split(x, 2)"
   ]
  },
  {
   "cell_type": "code",
   "execution_count": 268,
   "id": "3b27646c-a28a-4fbd-afe0-4acef8525a6e",
   "metadata": {},
   "outputs": [
    {
     "data": {
      "text/plain": [
       "[array([0., 1., 2.]), array([3., 4., 5.]), array([6., 7., 8.])]"
      ]
     },
     "execution_count": 268,
     "metadata": {},
     "output_type": "execute_result"
    }
   ],
   "source": [
    "np.array_split(x, 3)"
   ]
  },
  {
   "cell_type": "code",
   "execution_count": 269,
   "id": "bf0d8dcd-eb03-4538-8df3-787635821c05",
   "metadata": {},
   "outputs": [
    {
     "data": {
      "text/plain": [
       "[array([0., 1., 2.]), array([3., 4.]), array([5., 6.]), array([7., 8.])]"
      ]
     },
     "execution_count": 269,
     "metadata": {},
     "output_type": "execute_result"
    }
   ],
   "source": [
    "np.array_split(x, 4)"
   ]
  },
  {
   "cell_type": "code",
   "execution_count": 270,
   "id": "25bdd46b-67dc-4089-a663-3a0963442b09",
   "metadata": {},
   "outputs": [
    {
     "data": {
      "text/plain": [
       "[array([0., 1.]),\n",
       " array([2., 3.]),\n",
       " array([4., 5.]),\n",
       " array([6., 7.]),\n",
       " array([8.])]"
      ]
     },
     "execution_count": 270,
     "metadata": {},
     "output_type": "execute_result"
    }
   ],
   "source": [
    "np.array_split(x, 5)"
   ]
  },
  {
   "cell_type": "code",
   "execution_count": 274,
   "id": "f6eac28c-f8fe-4741-975c-4e249854a083",
   "metadata": {},
   "outputs": [
    {
     "data": {
      "text/plain": [
       "[array([0., 1.]), array([2., 3.]), array([4., 5., 6., 7.]), array([8.])]"
      ]
     },
     "execution_count": 274,
     "metadata": {},
     "output_type": "execute_result"
    }
   ],
   "source": [
    "np.array_split(x, [2, 4, 8])"
   ]
  },
  {
   "cell_type": "code",
   "execution_count": 275,
   "id": "23b08f51-aa19-44c2-ae22-86b46c65d7f1",
   "metadata": {},
   "outputs": [
    {
     "data": {
      "text/plain": [
       "array([[ 0,  1,  2,  3,  4],\n",
       "       [ 5,  6,  7,  8,  9],\n",
       "       [10, 11, 12, 13, 14],\n",
       "       [15, 16, 17, 18, 19],\n",
       "       [20, 21, 22, 23, 24],\n",
       "       [25, 26, 27, 28, 29],\n",
       "       [30, 31, 32, 33, 34]])"
      ]
     },
     "execution_count": 275,
     "metadata": {},
     "output_type": "execute_result"
    }
   ],
   "source": [
    "a = np.arange(35).reshape(7, 5)\n",
    "a"
   ]
  },
  {
   "cell_type": "code",
   "execution_count": 276,
   "id": "ac89244f-5413-4780-b86e-bedc53526dd0",
   "metadata": {},
   "outputs": [
    {
     "data": {
      "text/plain": [
       "[array([[ 0,  1,  2,  3,  4],\n",
       "        [ 5,  6,  7,  8,  9],\n",
       "        [10, 11, 12, 13, 14],\n",
       "        [15, 16, 17, 18, 19]]),\n",
       " array([[20, 21, 22, 23, 24],\n",
       "        [25, 26, 27, 28, 29],\n",
       "        [30, 31, 32, 33, 34]])]"
      ]
     },
     "execution_count": 276,
     "metadata": {},
     "output_type": "execute_result"
    }
   ],
   "source": [
    "np.array_split(a, 2, axis = 0)"
   ]
  },
  {
   "cell_type": "code",
   "execution_count": 277,
   "id": "538f3d3a-796b-40c5-a82e-c32f77f52267",
   "metadata": {},
   "outputs": [
    {
     "data": {
      "text/plain": [
       "[array([[ 0,  1,  2],\n",
       "        [ 5,  6,  7],\n",
       "        [10, 11, 12],\n",
       "        [15, 16, 17],\n",
       "        [20, 21, 22],\n",
       "        [25, 26, 27],\n",
       "        [30, 31, 32]]),\n",
       " array([[ 3,  4],\n",
       "        [ 8,  9],\n",
       "        [13, 14],\n",
       "        [18, 19],\n",
       "        [23, 24],\n",
       "        [28, 29],\n",
       "        [33, 34]])]"
      ]
     },
     "execution_count": 277,
     "metadata": {},
     "output_type": "execute_result"
    }
   ],
   "source": [
    "np.array_split(a, 2, axis = 1)"
   ]
  },
  {
   "cell_type": "code",
   "execution_count": 278,
   "id": "7e789e2e-f063-408e-ab6f-6e2818e19c45",
   "metadata": {},
   "outputs": [
    {
     "data": {
      "text/plain": [
       "[array([[0, 1, 2, 3, 4],\n",
       "        [5, 6, 7, 8, 9]]),\n",
       " array([[10, 11, 12, 13, 14],\n",
       "        [15, 16, 17, 18, 19]]),\n",
       " array([[20, 21, 22, 23, 24],\n",
       "        [25, 26, 27, 28, 29]]),\n",
       " array([[30, 31, 32, 33, 34]])]"
      ]
     },
     "execution_count": 278,
     "metadata": {},
     "output_type": "execute_result"
    }
   ],
   "source": [
    "np.array_split(a, 4, axis = 0)"
   ]
  },
  {
   "cell_type": "code",
   "execution_count": 279,
   "id": "435a2c17-66ec-4366-9c39-162b4a6b74c3",
   "metadata": {},
   "outputs": [
    {
     "data": {
      "text/plain": [
       "[array([[ 0,  1],\n",
       "        [ 5,  6],\n",
       "        [10, 11],\n",
       "        [15, 16],\n",
       "        [20, 21],\n",
       "        [25, 26],\n",
       "        [30, 31]]),\n",
       " array([[ 2],\n",
       "        [ 7],\n",
       "        [12],\n",
       "        [17],\n",
       "        [22],\n",
       "        [27],\n",
       "        [32]]),\n",
       " array([[ 3],\n",
       "        [ 8],\n",
       "        [13],\n",
       "        [18],\n",
       "        [23],\n",
       "        [28],\n",
       "        [33]]),\n",
       " array([[ 4],\n",
       "        [ 9],\n",
       "        [14],\n",
       "        [19],\n",
       "        [24],\n",
       "        [29],\n",
       "        [34]])]"
      ]
     },
     "execution_count": 279,
     "metadata": {},
     "output_type": "execute_result"
    }
   ],
   "source": [
    "np.array_split(a, 4, axis = 1)"
   ]
  },
  {
   "cell_type": "code",
   "execution_count": 280,
   "id": "b5c389c7-d981-4107-bcc9-ed05938dffad",
   "metadata": {},
   "outputs": [
    {
     "data": {
      "text/plain": [
       "[array([[0, 1, 2, 3, 4],\n",
       "        [5, 6, 7, 8, 9]]),\n",
       " array([[10, 11, 12, 13, 14],\n",
       "        [15, 16, 17, 18, 19]]),\n",
       " array([[20, 21, 22, 23, 24],\n",
       "        [25, 26, 27, 28, 29],\n",
       "        [30, 31, 32, 33, 34]])]"
      ]
     },
     "execution_count": 280,
     "metadata": {},
     "output_type": "execute_result"
    }
   ],
   "source": [
    "np.array_split(a, [2, 4], axis = 0)"
   ]
  },
  {
   "cell_type": "code",
   "execution_count": 281,
   "id": "d980d3a6-9314-42cb-a8a8-a4377b173fd1",
   "metadata": {},
   "outputs": [
    {
     "data": {
      "text/plain": [
       "[array([[ 0,  1],\n",
       "        [ 5,  6],\n",
       "        [10, 11],\n",
       "        [15, 16],\n",
       "        [20, 21],\n",
       "        [25, 26],\n",
       "        [30, 31]]),\n",
       " array([[ 2,  3],\n",
       "        [ 7,  8],\n",
       "        [12, 13],\n",
       "        [17, 18],\n",
       "        [22, 23],\n",
       "        [27, 28],\n",
       "        [32, 33]]),\n",
       " array([[ 4],\n",
       "        [ 9],\n",
       "        [14],\n",
       "        [19],\n",
       "        [24],\n",
       "        [29],\n",
       "        [34]])]"
      ]
     },
     "execution_count": 281,
     "metadata": {},
     "output_type": "execute_result"
    }
   ],
   "source": [
    "np.array_split(a, [2, 4], axis = 1)"
   ]
  },
  {
   "cell_type": "code",
   "execution_count": 282,
   "id": "06195cb3-9802-4e6f-b725-5a8e5761eb99",
   "metadata": {},
   "outputs": [
    {
     "data": {
      "text/plain": [
       "array([[[ 0,  1,  2,  3,  4,  5],\n",
       "        [ 6,  7,  8,  9, 10, 11]],\n",
       "\n",
       "       [[12, 13, 14, 15, 16, 17],\n",
       "        [18, 19, 20, 21, 22, 23]]])"
      ]
     },
     "execution_count": 282,
     "metadata": {},
     "output_type": "execute_result"
    }
   ],
   "source": [
    "x = np.arange(24).reshape(2, 2, 6)\n",
    "x"
   ]
  },
  {
   "cell_type": "code",
   "execution_count": 283,
   "id": "e4b94105-fd6b-4f2e-a308-efe5b646b1c9",
   "metadata": {},
   "outputs": [
    {
     "data": {
      "text/plain": [
       "[array([[[ 0,  1],\n",
       "         [ 6,  7]],\n",
       " \n",
       "        [[12, 13],\n",
       "         [18, 19]]]),\n",
       " array([[[ 2,  3],\n",
       "         [ 8,  9]],\n",
       " \n",
       "        [[14, 15],\n",
       "         [20, 21]]]),\n",
       " array([[[ 4],\n",
       "         [10]],\n",
       " \n",
       "        [[16],\n",
       "         [22]]]),\n",
       " array([[[ 5],\n",
       "         [11]],\n",
       " \n",
       "        [[17],\n",
       "         [23]]])]"
      ]
     },
     "execution_count": 283,
     "metadata": {},
     "output_type": "execute_result"
    }
   ],
   "source": [
    "np.array_split(x, 4, axis = 2)"
   ]
  },
  {
   "cell_type": "code",
   "execution_count": 284,
   "id": "8833b2b2-ed31-4d34-86fd-3810eb688e33",
   "metadata": {},
   "outputs": [
    {
     "data": {
      "text/plain": [
       "[array([[[ 0,  1],\n",
       "         [ 6,  7]],\n",
       " \n",
       "        [[12, 13],\n",
       "         [18, 19]]]),\n",
       " array([[[ 2,  3],\n",
       "         [ 8,  9]],\n",
       " \n",
       "        [[14, 15],\n",
       "         [20, 21]]]),\n",
       " array([[[ 4],\n",
       "         [10]],\n",
       " \n",
       "        [[16],\n",
       "         [22]]]),\n",
       " array([[[ 5],\n",
       "         [11]],\n",
       " \n",
       "        [[17],\n",
       "         [23]]])]"
      ]
     },
     "execution_count": 284,
     "metadata": {},
     "output_type": "execute_result"
    }
   ],
   "source": [
    "np.split(x, [2, 4, 5], axis = 2)"
   ]
  },
  {
   "cell_type": "code",
   "execution_count": 285,
   "id": "c8da7897-edac-4609-896b-8cc19d94409e",
   "metadata": {},
   "outputs": [
    {
     "data": {
      "text/plain": [
       "array([[[ 5],\n",
       "        [11]],\n",
       "\n",
       "       [[17],\n",
       "        [23]]])"
      ]
     },
     "execution_count": 285,
     "metadata": {},
     "output_type": "execute_result"
    }
   ],
   "source": [
    "x[:, :, 5:]"
   ]
  },
  {
   "cell_type": "code",
   "execution_count": 286,
   "id": "c18b0731-64b3-45e1-9cee-795ff2158f59",
   "metadata": {},
   "outputs": [
    {
     "data": {
      "text/plain": [
       "array([[[ 0,  1,  2,  3,  4,  5],\n",
       "        [ 6,  7,  8,  9, 10, 11]],\n",
       "\n",
       "       [[12, 13, 14, 15, 16, 17],\n",
       "        [18, 19, 20, 21, 22, 23]]])"
      ]
     },
     "execution_count": 286,
     "metadata": {},
     "output_type": "execute_result"
    }
   ],
   "source": [
    "x = np.arange(24).reshape(2, 2, 6)\n",
    "x"
   ]
  },
  {
   "cell_type": "code",
   "execution_count": 287,
   "id": "30d660c2-03fc-4574-9df9-5c0eb5842a58",
   "metadata": {},
   "outputs": [
    {
     "data": {
      "text/plain": [
       "[array([[[ 0,  1,  2],\n",
       "         [ 6,  7,  8]],\n",
       " \n",
       "        [[12, 13, 14],\n",
       "         [18, 19, 20]]]),\n",
       " array([[[ 3,  4,  5],\n",
       "         [ 9, 10, 11]],\n",
       " \n",
       "        [[15, 16, 17],\n",
       "         [21, 22, 23]]])]"
      ]
     },
     "execution_count": 287,
     "metadata": {},
     "output_type": "execute_result"
    }
   ],
   "source": [
    "np.dsplit(x, 2)"
   ]
  },
  {
   "cell_type": "code",
   "execution_count": 288,
   "id": "0664e821-e2c3-4350-97f8-a863994bcc8f",
   "metadata": {},
   "outputs": [
    {
     "data": {
      "text/plain": [
       "[array([[[ 0,  1,  2],\n",
       "         [ 6,  7,  8]],\n",
       " \n",
       "        [[12, 13, 14],\n",
       "         [18, 19, 20]]]),\n",
       " array([[[ 3,  4,  5],\n",
       "         [ 9, 10, 11]],\n",
       " \n",
       "        [[15, 16, 17],\n",
       "         [21, 22, 23]]])]"
      ]
     },
     "execution_count": 288,
     "metadata": {},
     "output_type": "execute_result"
    }
   ],
   "source": [
    "np.split(x, 2, axis = 2)"
   ]
  },
  {
   "cell_type": "code",
   "execution_count": 289,
   "id": "5459bef3-263b-4a98-9fca-6eda502b2a12",
   "metadata": {},
   "outputs": [
    {
     "data": {
      "text/plain": [
       "[array([[[ 0,  1],\n",
       "         [ 6,  7]],\n",
       " \n",
       "        [[12, 13],\n",
       "         [18, 19]]]),\n",
       " array([[[ 2,  3],\n",
       "         [ 8,  9]],\n",
       " \n",
       "        [[14, 15],\n",
       "         [20, 21]]]),\n",
       " array([[[ 4,  5],\n",
       "         [10, 11]],\n",
       " \n",
       "        [[16, 17],\n",
       "         [22, 23]]])]"
      ]
     },
     "execution_count": 289,
     "metadata": {},
     "output_type": "execute_result"
    }
   ],
   "source": [
    "np.dsplit(x, 3)"
   ]
  },
  {
   "cell_type": "code",
   "execution_count": 290,
   "id": "ded72777-8eab-4a4b-bf8e-d969aa88f8b5",
   "metadata": {},
   "outputs": [
    {
     "ename": "ValueError",
     "evalue": "array split does not result in an equal division",
     "output_type": "error",
     "traceback": [
      "\u001b[1;31m---------------------------------------------------------------------------\u001b[0m",
      "\u001b[1;31mValueError\u001b[0m                                Traceback (most recent call last)",
      "Cell \u001b[1;32mIn[290], line 1\u001b[0m\n\u001b[1;32m----> 1\u001b[0m np\u001b[38;5;241m.\u001b[39mdsplit(x, \u001b[38;5;241m4\u001b[39m)\n",
      "File \u001b[1;32m~\\anaconda3\\Lib\\site-packages\\numpy\\lib\\shape_base.py:1034\u001b[0m, in \u001b[0;36mdsplit\u001b[1;34m(ary, indices_or_sections)\u001b[0m\n\u001b[0;32m   1032\u001b[0m \u001b[38;5;28;01mif\u001b[39;00m _nx\u001b[38;5;241m.\u001b[39mndim(ary) \u001b[38;5;241m<\u001b[39m \u001b[38;5;241m3\u001b[39m:\n\u001b[0;32m   1033\u001b[0m     \u001b[38;5;28;01mraise\u001b[39;00m \u001b[38;5;167;01mValueError\u001b[39;00m(\u001b[38;5;124m'\u001b[39m\u001b[38;5;124mdsplit only works on arrays of 3 or more dimensions\u001b[39m\u001b[38;5;124m'\u001b[39m)\n\u001b[1;32m-> 1034\u001b[0m \u001b[38;5;28;01mreturn\u001b[39;00m split(ary, indices_or_sections, \u001b[38;5;241m2\u001b[39m)\n",
      "File \u001b[1;32m~\\anaconda3\\Lib\\site-packages\\numpy\\lib\\shape_base.py:864\u001b[0m, in \u001b[0;36msplit\u001b[1;34m(ary, indices_or_sections, axis)\u001b[0m\n\u001b[0;32m    862\u001b[0m     N \u001b[38;5;241m=\u001b[39m ary\u001b[38;5;241m.\u001b[39mshape[axis]\n\u001b[0;32m    863\u001b[0m     \u001b[38;5;28;01mif\u001b[39;00m N \u001b[38;5;241m%\u001b[39m sections:\n\u001b[1;32m--> 864\u001b[0m         \u001b[38;5;28;01mraise\u001b[39;00m \u001b[38;5;167;01mValueError\u001b[39;00m(\n\u001b[0;32m    865\u001b[0m             \u001b[38;5;124m'\u001b[39m\u001b[38;5;124marray split does not result in an equal division\u001b[39m\u001b[38;5;124m'\u001b[39m) \u001b[38;5;28;01mfrom\u001b[39;00m \u001b[38;5;28;01mNone\u001b[39;00m\n\u001b[0;32m    866\u001b[0m \u001b[38;5;28;01mreturn\u001b[39;00m array_split(ary, indices_or_sections, axis)\n",
      "\u001b[1;31mValueError\u001b[0m: array split does not result in an equal division"
     ]
    }
   ],
   "source": [
    "np.dsplit(x, 4)"
   ]
  },
  {
   "cell_type": "code",
   "execution_count": 291,
   "id": "dc7210b9-6073-4be3-841a-878cc66ad667",
   "metadata": {},
   "outputs": [
    {
     "data": {
      "text/plain": [
       "[array([[[ 0,  1],\n",
       "         [ 6,  7]],\n",
       " \n",
       "        [[12, 13],\n",
       "         [18, 19]]]),\n",
       " array([[[ 2,  3],\n",
       "         [ 8,  9]],\n",
       " \n",
       "        [[14, 15],\n",
       "         [20, 21]]]),\n",
       " array([[[ 4],\n",
       "         [10]],\n",
       " \n",
       "        [[16],\n",
       "         [22]]]),\n",
       " array([[[ 5],\n",
       "         [11]],\n",
       " \n",
       "        [[17],\n",
       "         [23]]])]"
      ]
     },
     "execution_count": 291,
     "metadata": {},
     "output_type": "execute_result"
    }
   ],
   "source": [
    "np.dsplit(x, [2, 4, 5])"
   ]
  },
  {
   "cell_type": "code",
   "execution_count": 292,
   "id": "6688236a-c506-457c-8486-6d6a3862f00b",
   "metadata": {},
   "outputs": [
    {
     "data": {
      "text/plain": [
       "array([[[ 4],\n",
       "        [10]],\n",
       "\n",
       "       [[16],\n",
       "        [22]]])"
      ]
     },
     "execution_count": 292,
     "metadata": {},
     "output_type": "execute_result"
    }
   ],
   "source": [
    "x[:, :, 4:5]"
   ]
  },
  {
   "cell_type": "code",
   "execution_count": 293,
   "id": "0fc2c785-4b95-4f2d-9770-631493cd853e",
   "metadata": {},
   "outputs": [
    {
     "data": {
      "text/plain": [
       "Generator(PCG64) at 0x1EF2F1D4F20"
      ]
     },
     "execution_count": 293,
     "metadata": {},
     "output_type": "execute_result"
    }
   ],
   "source": [
    "rg = np.random.default_rng(12345)\n",
    "rg"
   ]
  },
  {
   "cell_type": "code",
   "execution_count": 294,
   "id": "ed921b4e-eac1-433b-b730-22c6399c7de0",
   "metadata": {},
   "outputs": [
    {
     "data": {
      "text/plain": [
       "0.22733602246716966"
      ]
     },
     "execution_count": 294,
     "metadata": {},
     "output_type": "execute_result"
    }
   ],
   "source": [
    "r = rg.random()\n",
    "r"
   ]
  },
  {
   "cell_type": "code",
   "execution_count": 295,
   "id": "7fb6e0ac-c049-4554-9b0b-bb951d49ea3a",
   "metadata": {},
   "outputs": [
    {
     "data": {
      "text/plain": [
       "array([0.31675834, 0.79736546, 0.67625467, 0.39110955, 0.33281393])"
      ]
     },
     "execution_count": 295,
     "metadata": {},
     "output_type": "execute_result"
    }
   ],
   "source": [
    "rg.random(5)"
   ]
  },
  {
   "cell_type": "code",
   "execution_count": 296,
   "id": "b067aad3-2176-4b68-9ecc-4f797f58ffaf",
   "metadata": {},
   "outputs": [
    {
     "data": {
      "text/plain": [
       "array([[0.59830875, 0.18673419, 0.67275604],\n",
       "       [0.94180287, 0.24824571, 0.94888115],\n",
       "       [0.66723745, 0.09589794, 0.44183967],\n",
       "       [0.88647992, 0.6974535 , 0.32647286]])"
      ]
     },
     "execution_count": 296,
     "metadata": {},
     "output_type": "execute_result"
    }
   ],
   "source": [
    "rg.random((4, 3))"
   ]
  },
  {
   "cell_type": "code",
   "execution_count": 297,
   "id": "3b452eb8-a27c-40be-8c21-53948fbaf01f",
   "metadata": {},
   "outputs": [
    {
     "data": {
      "text/plain": [
       "array([6, 2, 7], dtype=int64)"
      ]
     },
     "execution_count": 297,
     "metadata": {},
     "output_type": "execute_result"
    }
   ],
   "source": [
    "rg = np.random.default_rng(12345)\n",
    "r = rg.integers(low = 0, high = 10, size = 3)\n",
    "r"
   ]
  },
  {
   "cell_type": "code",
   "execution_count": 298,
   "id": "bbc806d3-b6e8-478f-b005-210d95a0cd49",
   "metadata": {},
   "outputs": [
    {
     "data": {
      "text/plain": [
       "array([[2, 2, 5, 4],\n",
       "       [5, 6, 3, 6],\n",
       "       [2, 4, 4, 2]], dtype=int64)"
      ]
     },
     "execution_count": 298,
     "metadata": {},
     "output_type": "execute_result"
    }
   ],
   "source": [
    "rg.integers(1, 7, (3, 4))"
   ]
  },
  {
   "cell_type": "code",
   "execution_count": 299,
   "id": "201b95e2-b1c1-43bf-9258-d24e10464cbd",
   "metadata": {},
   "outputs": [
    {
     "data": {
      "text/plain": [
       "array([ 0.30471708, -1.03998411,  0.7504512 ,  0.94056472, -1.95103519,\n",
       "       -1.30217951,  0.1278404 , -0.31624259, -0.01680116, -0.85304393])"
      ]
     },
     "execution_count": 299,
     "metadata": {},
     "output_type": "execute_result"
    }
   ],
   "source": [
    "rg = np.random.default_rng(seed = 42)\n",
    "rg.standard_normal(10)"
   ]
  },
  {
   "cell_type": "code",
   "execution_count": 300,
   "id": "f05a0947-82df-46a5-9ca8-02579191b8ce",
   "metadata": {},
   "outputs": [
    {
     "data": {
      "text/plain": [
       "array([[ 0.87939797,  0.77779194,  0.0660307 ],\n",
       "       [ 1.12724121,  0.46750934, -0.85929246],\n",
       "       [ 0.36875078, -0.9588826 ,  0.8784503 ],\n",
       "       [-0.04992591, -0.18486236, -0.68092954]])"
      ]
     },
     "execution_count": 300,
     "metadata": {},
     "output_type": "execute_result"
    }
   ],
   "source": [
    "rg.standard_normal((4, 3))"
   ]
  },
  {
   "cell_type": "code",
   "execution_count": null,
   "id": "a465202b-a841-47b5-b57b-fd9e63985c8d",
   "metadata": {},
   "outputs": [],
   "source": []
  }
 ],
 "metadata": {
  "kernelspec": {
   "display_name": "Python 3 (ipykernel)",
   "language": "python",
   "name": "python3"
  },
  "language_info": {
   "codemirror_mode": {
    "name": "ipython",
    "version": 3
   },
   "file_extension": ".py",
   "mimetype": "text/x-python",
   "name": "python",
   "nbconvert_exporter": "python",
   "pygments_lexer": "ipython3",
   "version": "3.12.4"
  }
 },
 "nbformat": 4,
 "nbformat_minor": 5
}
